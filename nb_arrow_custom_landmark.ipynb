{
 "cells": [
  {
   "cell_type": "code",
   "execution_count": 1,
   "metadata": {},
   "outputs": [],
   "source": [
    "import os\n",
    "import cv2\n",
    "import mediapipe as mp\n",
    "import numpy as np\n",
    "import mediapipe as mp\n",
    "\n",
    "from tensorflow.keras.models import Sequential\n",
    "from tensorflow.keras.layers import LSTM, Dense\n",
    "\n",
    "import feedforward"
   ]
  },
  {
   "cell_type": "markdown",
   "metadata": {},
   "source": [
    "## Setup folder and register the training data"
   ]
  },
  {
   "cell_type": "code",
   "execution_count": 2,
   "metadata": {},
   "outputs": [],
   "source": [
    "VIDEOS_PATH = os.path.join('dist/videos') "
   ]
  },
  {
   "cell_type": "code",
   "execution_count": 3,
   "metadata": {},
   "outputs": [],
   "source": [
    "feedforward.create_folder_if_not_exists(VIDEOS_PATH)"
   ]
  },
  {
   "cell_type": "code",
   "execution_count": null,
   "metadata": {},
   "outputs": [],
   "source": [
    "# feedforward.clear_folder(DATA_PATH)"
   ]
  },
  {
   "cell_type": "code",
   "execution_count": 4,
   "metadata": {},
   "outputs": [],
   "source": [
    "NUM_VIDEOS = 2\n",
    "NUM_FRAMES_PER_VIDEO = 100"
   ]
  },
  {
   "cell_type": "code",
   "execution_count": 5,
   "metadata": {},
   "outputs": [
    {
     "name": "stderr",
     "output_type": "stream",
     "text": [
      "2023-10-22 14:50:22.253 Python[15705:9376069] WARNING: AVCaptureDeviceTypeExternal is deprecated for Continuity Cameras. Please use AVCaptureDeviceTypeContinuityCamera and add NSCameraUseContinuityCameraDeviceType to your Info.plist.\n",
      "OpenCV: FFMPEG: tag 0x58564944/'DIVX' is not supported with codec id 12 and format 'mp4 / MP4 (MPEG-4 Part 14)'\n",
      "OpenCV: FFMPEG: fallback to use tag 0x7634706d/'mp4v'\n",
      "OpenCV: FFMPEG: tag 0x58564944/'DIVX' is not supported with codec id 12 and format 'mp4 / MP4 (MPEG-4 Part 14)'\n",
      "OpenCV: FFMPEG: fallback to use tag 0x7634706d/'mp4v'\n"
     ]
    }
   ],
   "source": [
    "video_prefix = 'arrow'\n",
    "feedforward.register_videos(VIDEOS_PATH, video_prefix, NUM_VIDEOS, NUM_FRAMES_PER_VIDEO, 'beautiful_gesture')"
   ]
  },
  {
   "cell_type": "markdown",
   "metadata": {},
   "source": [
    "## Classification"
   ]
  },
  {
   "cell_type": "markdown",
   "metadata": {},
   "source": [
    "### Data Augmentation"
   ]
  },
  {
   "cell_type": "code",
   "execution_count": 6,
   "metadata": {},
   "outputs": [
    {
     "name": "stderr",
     "output_type": "stream",
     "text": [
      "OpenCV: FFMPEG: tag 0x58564944/'DIVX' is not supported with codec id 12 and format 'mp4 / MP4 (MPEG-4 Part 14)'\n",
      "OpenCV: FFMPEG: fallback to use tag 0x7634706d/'mp4v'\n",
      "OpenCV: FFMPEG: tag 0x58564944/'DIVX' is not supported with codec id 12 and format 'mp4 / MP4 (MPEG-4 Part 14)'\n",
      "OpenCV: FFMPEG: fallback to use tag 0x7634706d/'mp4v'\n"
     ]
    }
   ],
   "source": [
    "augmented_prefix = \"augmented_rotation_\"\n",
    "feedforward.augment_dataset_rotation(VIDEOS_PATH, augmented_prefix)"
   ]
  },
  {
   "cell_type": "code",
   "execution_count": null,
   "metadata": {},
   "outputs": [],
   "source": [
    "feedforward.delete_files_with_prefix(VIDEOS_PATH, augmented_prefix)"
   ]
  },
  {
   "cell_type": "markdown",
   "metadata": {},
   "source": [
    "### Building the training set"
   ]
  },
  {
   "cell_type": "code",
   "execution_count": 7,
   "metadata": {},
   "outputs": [
    {
     "name": "stdout",
     "output_type": "stream",
     "text": [
      "Processing video #1...\n"
     ]
    },
    {
     "name": "stderr",
     "output_type": "stream",
     "text": [
      "INFO: Created TensorFlow Lite XNNPACK delegate for CPU.\n"
     ]
    },
    {
     "name": "stdout",
     "output_type": "stream",
     "text": [
      "Processing video #2...\n",
      "Processing video #3...\n",
      "Processing video #4...\n"
     ]
    },
    {
     "data": {
      "text/plain": [
       "((324, 10, 4), (324, 2))"
      ]
     },
     "execution_count": 7,
     "metadata": {},
     "output_type": "execute_result"
    }
   ],
   "source": [
    "WINDOW_LEN = 20\n",
    "TERGET_LANDMARK = mp.solutions.holistic.PoseLandmark.RIGHT_WRIST\n",
    "X_training, y_training = feedforward.build_training_arrow_data(VIDEOS_PATH, WINDOW_LEN, TERGET_LANDMARK)\n",
    "X_training.shape, y_training.shape"
   ]
  },
  {
   "cell_type": "markdown",
   "metadata": {},
   "source": [
    "### Build and Train the model"
   ]
  },
  {
   "cell_type": "code",
   "execution_count": 8,
   "metadata": {},
   "outputs": [
    {
     "name": "stdout",
     "output_type": "stream",
     "text": [
      "Epoch 1/100\n",
      "9/9 [==============================] - 2s 43ms/step - loss: 0.4390 - accuracy: 0.7259 - val_loss: 0.3157 - val_accuracy: 1.0000\n",
      "Epoch 2/100\n",
      "9/9 [==============================] - 0s 6ms/step - loss: 0.1867 - accuracy: 1.0000 - val_loss: 0.0050 - val_accuracy: 1.0000\n",
      "Epoch 3/100\n",
      "9/9 [==============================] - 0s 7ms/step - loss: 0.0335 - accuracy: 1.0000 - val_loss: 0.0019 - val_accuracy: 1.0000\n",
      "Epoch 4/100\n",
      "9/9 [==============================] - 0s 6ms/step - loss: 0.0202 - accuracy: 1.0000 - val_loss: 0.0141 - val_accuracy: 1.0000\n",
      "Epoch 5/100\n",
      "9/9 [==============================] - 0s 6ms/step - loss: 0.0099 - accuracy: 1.0000 - val_loss: 0.0055 - val_accuracy: 1.0000\n",
      "Epoch 6/100\n",
      "9/9 [==============================] - 0s 7ms/step - loss: 0.0071 - accuracy: 1.0000 - val_loss: 0.0025 - val_accuracy: 1.0000\n",
      "Epoch 7/100\n",
      "9/9 [==============================] - 0s 6ms/step - loss: 0.0061 - accuracy: 1.0000 - val_loss: 6.8133e-04 - val_accuracy: 1.0000\n",
      "Epoch 8/100\n",
      "9/9 [==============================] - 0s 6ms/step - loss: 0.0052 - accuracy: 1.0000 - val_loss: 7.3430e-04 - val_accuracy: 1.0000\n",
      "Epoch 9/100\n",
      "9/9 [==============================] - 0s 6ms/step - loss: 0.0052 - accuracy: 1.0000 - val_loss: 0.0012 - val_accuracy: 1.0000\n",
      "Epoch 10/100\n",
      "9/9 [==============================] - 0s 6ms/step - loss: 0.0051 - accuracy: 1.0000 - val_loss: 9.2453e-04 - val_accuracy: 1.0000\n",
      "Epoch 11/100\n",
      "9/9 [==============================] - 0s 7ms/step - loss: 0.0051 - accuracy: 1.0000 - val_loss: 8.8541e-04 - val_accuracy: 1.0000\n",
      "Epoch 12/100\n",
      "9/9 [==============================] - 0s 7ms/step - loss: 0.0050 - accuracy: 1.0000 - val_loss: 7.5313e-04 - val_accuracy: 1.0000\n",
      "Epoch 13/100\n",
      "9/9 [==============================] - 0s 7ms/step - loss: 0.0052 - accuracy: 1.0000 - val_loss: 8.5812e-04 - val_accuracy: 1.0000\n",
      "Epoch 14/100\n",
      "9/9 [==============================] - 0s 7ms/step - loss: 0.0056 - accuracy: 1.0000 - val_loss: 0.0011 - val_accuracy: 1.0000\n",
      "Epoch 15/100\n",
      "9/9 [==============================] - 0s 7ms/step - loss: 0.0050 - accuracy: 1.0000 - val_loss: 5.8076e-04 - val_accuracy: 1.0000\n",
      "Epoch 16/100\n",
      "9/9 [==============================] - 0s 7ms/step - loss: 0.0050 - accuracy: 1.0000 - val_loss: 7.3236e-04 - val_accuracy: 1.0000\n",
      "Epoch 17/100\n",
      "9/9 [==============================] - 0s 7ms/step - loss: 0.0049 - accuracy: 1.0000 - val_loss: 7.4341e-04 - val_accuracy: 1.0000\n",
      "Epoch 18/100\n",
      "9/9 [==============================] - 0s 7ms/step - loss: 0.0049 - accuracy: 1.0000 - val_loss: 9.8926e-04 - val_accuracy: 1.0000\n",
      "Epoch 19/100\n",
      "9/9 [==============================] - 0s 7ms/step - loss: 0.0052 - accuracy: 1.0000 - val_loss: 7.8287e-04 - val_accuracy: 1.0000\n",
      "Epoch 20/100\n",
      "9/9 [==============================] - 0s 7ms/step - loss: 0.0051 - accuracy: 1.0000 - val_loss: 0.0011 - val_accuracy: 1.0000\n",
      "Epoch 21/100\n",
      "9/9 [==============================] - 0s 7ms/step - loss: 0.0052 - accuracy: 1.0000 - val_loss: 8.0111e-04 - val_accuracy: 1.0000\n",
      "Epoch 22/100\n",
      "9/9 [==============================] - 0s 7ms/step - loss: 0.0050 - accuracy: 1.0000 - val_loss: 8.4650e-04 - val_accuracy: 1.0000\n",
      "Epoch 23/100\n",
      "9/9 [==============================] - 0s 7ms/step - loss: 0.0050 - accuracy: 1.0000 - val_loss: 7.2354e-04 - val_accuracy: 1.0000\n",
      "Epoch 24/100\n",
      "9/9 [==============================] - 0s 7ms/step - loss: 0.0050 - accuracy: 1.0000 - val_loss: 9.8074e-04 - val_accuracy: 1.0000\n",
      "Epoch 25/100\n",
      "9/9 [==============================] - 0s 7ms/step - loss: 0.0051 - accuracy: 1.0000 - val_loss: 7.1928e-04 - val_accuracy: 1.0000\n",
      "Epoch 26/100\n",
      "9/9 [==============================] - 0s 7ms/step - loss: 0.0052 - accuracy: 1.0000 - val_loss: 9.0259e-04 - val_accuracy: 1.0000\n",
      "Epoch 27/100\n",
      "9/9 [==============================] - 0s 7ms/step - loss: 0.0049 - accuracy: 1.0000 - val_loss: 7.6249e-04 - val_accuracy: 1.0000\n",
      "Epoch 28/100\n",
      "9/9 [==============================] - 0s 7ms/step - loss: 0.0051 - accuracy: 1.0000 - val_loss: 6.2541e-04 - val_accuracy: 1.0000\n",
      "Epoch 29/100\n",
      "9/9 [==============================] - 0s 7ms/step - loss: 0.0050 - accuracy: 1.0000 - val_loss: 7.7199e-04 - val_accuracy: 1.0000\n",
      "Epoch 30/100\n",
      "9/9 [==============================] - 0s 7ms/step - loss: 0.0049 - accuracy: 1.0000 - val_loss: 6.5737e-04 - val_accuracy: 1.0000\n",
      "Epoch 31/100\n",
      "9/9 [==============================] - 0s 7ms/step - loss: 0.0049 - accuracy: 1.0000 - val_loss: 7.7515e-04 - val_accuracy: 1.0000\n",
      "Epoch 32/100\n",
      "9/9 [==============================] - 0s 7ms/step - loss: 0.0050 - accuracy: 1.0000 - val_loss: 7.3577e-04 - val_accuracy: 1.0000\n",
      "Epoch 33/100\n",
      "9/9 [==============================] - 0s 7ms/step - loss: 0.0049 - accuracy: 1.0000 - val_loss: 7.9057e-04 - val_accuracy: 1.0000\n",
      "Epoch 34/100\n",
      "9/9 [==============================] - 0s 7ms/step - loss: 0.0049 - accuracy: 1.0000 - val_loss: 7.1512e-04 - val_accuracy: 1.0000\n",
      "Epoch 35/100\n",
      "9/9 [==============================] - 0s 7ms/step - loss: 0.0050 - accuracy: 1.0000 - val_loss: 7.5109e-04 - val_accuracy: 1.0000\n",
      "Epoch 36/100\n",
      "9/9 [==============================] - 0s 7ms/step - loss: 0.0049 - accuracy: 1.0000 - val_loss: 9.3610e-04 - val_accuracy: 1.0000\n",
      "Epoch 37/100\n",
      "9/9 [==============================] - 0s 6ms/step - loss: 0.0048 - accuracy: 1.0000 - val_loss: 5.2252e-04 - val_accuracy: 1.0000\n",
      "Epoch 38/100\n",
      "9/9 [==============================] - 0s 7ms/step - loss: 0.0050 - accuracy: 1.0000 - val_loss: 9.6153e-04 - val_accuracy: 1.0000\n",
      "Epoch 39/100\n",
      "9/9 [==============================] - 0s 7ms/step - loss: 0.0049 - accuracy: 1.0000 - val_loss: 7.0061e-04 - val_accuracy: 1.0000\n",
      "Epoch 40/100\n",
      "9/9 [==============================] - 0s 7ms/step - loss: 0.0049 - accuracy: 1.0000 - val_loss: 0.0012 - val_accuracy: 1.0000\n",
      "Epoch 41/100\n",
      "9/9 [==============================] - 0s 7ms/step - loss: 0.0049 - accuracy: 1.0000 - val_loss: 6.4992e-04 - val_accuracy: 1.0000\n",
      "Epoch 42/100\n",
      "9/9 [==============================] - 0s 9ms/step - loss: 0.0048 - accuracy: 1.0000 - val_loss: 0.0011 - val_accuracy: 1.0000\n",
      "Epoch 43/100\n",
      "9/9 [==============================] - 0s 7ms/step - loss: 0.0048 - accuracy: 1.0000 - val_loss: 9.6862e-04 - val_accuracy: 1.0000\n",
      "Epoch 44/100\n",
      "9/9 [==============================] - 0s 7ms/step - loss: 0.0062 - accuracy: 1.0000 - val_loss: 0.0025 - val_accuracy: 1.0000\n",
      "Epoch 45/100\n",
      "9/9 [==============================] - 0s 7ms/step - loss: 0.0052 - accuracy: 1.0000 - val_loss: 5.9557e-04 - val_accuracy: 1.0000\n",
      "Epoch 46/100\n",
      "9/9 [==============================] - 0s 7ms/step - loss: 0.0049 - accuracy: 1.0000 - val_loss: 7.6215e-04 - val_accuracy: 1.0000\n",
      "Epoch 47/100\n",
      "9/9 [==============================] - 0s 7ms/step - loss: 0.0049 - accuracy: 1.0000 - val_loss: 6.8882e-04 - val_accuracy: 1.0000\n",
      "Epoch 48/100\n",
      "9/9 [==============================] - 0s 7ms/step - loss: 0.0048 - accuracy: 1.0000 - val_loss: 5.9451e-04 - val_accuracy: 1.0000\n",
      "Epoch 49/100\n",
      "9/9 [==============================] - 0s 7ms/step - loss: 0.0049 - accuracy: 1.0000 - val_loss: 0.0015 - val_accuracy: 1.0000\n",
      "Epoch 50/100\n",
      "9/9 [==============================] - 0s 7ms/step - loss: 0.0050 - accuracy: 1.0000 - val_loss: 9.4637e-04 - val_accuracy: 1.0000\n",
      "Epoch 51/100\n",
      "9/9 [==============================] - 0s 7ms/step - loss: 0.0051 - accuracy: 1.0000 - val_loss: 6.7537e-04 - val_accuracy: 1.0000\n",
      "Epoch 52/100\n",
      "9/9 [==============================] - 0s 7ms/step - loss: 0.0050 - accuracy: 1.0000 - val_loss: 0.0011 - val_accuracy: 1.0000\n",
      "Epoch 53/100\n",
      "9/9 [==============================] - 0s 7ms/step - loss: 0.0060 - accuracy: 1.0000 - val_loss: 0.0018 - val_accuracy: 1.0000\n",
      "Epoch 54/100\n",
      "9/9 [==============================] - 0s 7ms/step - loss: 0.0048 - accuracy: 1.0000 - val_loss: 8.0445e-04 - val_accuracy: 1.0000\n",
      "Epoch 55/100\n",
      "9/9 [==============================] - 0s 7ms/step - loss: 0.0048 - accuracy: 1.0000 - val_loss: 0.0011 - val_accuracy: 1.0000\n",
      "Epoch 56/100\n",
      "9/9 [==============================] - 0s 7ms/step - loss: 0.0047 - accuracy: 1.0000 - val_loss: 8.6454e-04 - val_accuracy: 1.0000\n",
      "Epoch 57/100\n",
      "9/9 [==============================] - 0s 7ms/step - loss: 0.0052 - accuracy: 1.0000 - val_loss: 8.4244e-04 - val_accuracy: 1.0000\n",
      "Epoch 58/100\n",
      "9/9 [==============================] - 0s 7ms/step - loss: 0.0050 - accuracy: 1.0000 - val_loss: 0.0029 - val_accuracy: 1.0000\n",
      "Epoch 59/100\n",
      "9/9 [==============================] - 0s 7ms/step - loss: 0.0056 - accuracy: 1.0000 - val_loss: 6.6355e-04 - val_accuracy: 1.0000\n",
      "Epoch 60/100\n",
      "9/9 [==============================] - 0s 7ms/step - loss: 0.0050 - accuracy: 1.0000 - val_loss: 8.1974e-04 - val_accuracy: 1.0000\n",
      "Epoch 61/100\n",
      "9/9 [==============================] - 0s 7ms/step - loss: 0.0054 - accuracy: 1.0000 - val_loss: 0.0018 - val_accuracy: 1.0000\n",
      "Epoch 62/100\n",
      "9/9 [==============================] - 0s 7ms/step - loss: 0.0049 - accuracy: 1.0000 - val_loss: 8.5438e-04 - val_accuracy: 1.0000\n",
      "Epoch 63/100\n",
      "9/9 [==============================] - 0s 7ms/step - loss: 0.0047 - accuracy: 1.0000 - val_loss: 8.0512e-04 - val_accuracy: 1.0000\n",
      "Epoch 64/100\n",
      "9/9 [==============================] - 0s 7ms/step - loss: 0.0047 - accuracy: 1.0000 - val_loss: 8.8558e-04 - val_accuracy: 1.0000\n",
      "Epoch 65/100\n",
      "9/9 [==============================] - 0s 7ms/step - loss: 0.0047 - accuracy: 1.0000 - val_loss: 7.5678e-04 - val_accuracy: 1.0000\n",
      "Epoch 66/100\n",
      "9/9 [==============================] - 0s 7ms/step - loss: 0.0050 - accuracy: 1.0000 - val_loss: 0.0021 - val_accuracy: 1.0000\n",
      "Epoch 67/100\n",
      "9/9 [==============================] - 0s 7ms/step - loss: 0.0050 - accuracy: 1.0000 - val_loss: 0.0013 - val_accuracy: 1.0000\n",
      "Epoch 68/100\n",
      "9/9 [==============================] - 0s 7ms/step - loss: 0.0051 - accuracy: 1.0000 - val_loss: 4.1736e-04 - val_accuracy: 1.0000\n",
      "Epoch 69/100\n",
      "9/9 [==============================] - 0s 7ms/step - loss: 0.0048 - accuracy: 1.0000 - val_loss: 0.0025 - val_accuracy: 1.0000\n",
      "Epoch 70/100\n",
      "9/9 [==============================] - 0s 7ms/step - loss: 0.0051 - accuracy: 1.0000 - val_loss: 7.7097e-04 - val_accuracy: 1.0000\n",
      "Epoch 71/100\n",
      "9/9 [==============================] - 0s 7ms/step - loss: 0.0047 - accuracy: 1.0000 - val_loss: 7.6815e-04 - val_accuracy: 1.0000\n",
      "Epoch 72/100\n",
      "9/9 [==============================] - 0s 7ms/step - loss: 0.0054 - accuracy: 1.0000 - val_loss: 0.0018 - val_accuracy: 1.0000\n",
      "Epoch 73/100\n",
      "9/9 [==============================] - 0s 7ms/step - loss: 0.0050 - accuracy: 1.0000 - val_loss: 0.0013 - val_accuracy: 1.0000\n",
      "Epoch 74/100\n",
      "9/9 [==============================] - 0s 7ms/step - loss: 0.0052 - accuracy: 1.0000 - val_loss: 3.5100e-04 - val_accuracy: 1.0000\n",
      "Epoch 75/100\n",
      "9/9 [==============================] - 0s 7ms/step - loss: 0.0047 - accuracy: 1.0000 - val_loss: 0.0018 - val_accuracy: 1.0000\n",
      "Epoch 76/100\n",
      "9/9 [==============================] - 0s 7ms/step - loss: 0.0048 - accuracy: 1.0000 - val_loss: 5.6828e-04 - val_accuracy: 1.0000\n",
      "Epoch 77/100\n",
      "9/9 [==============================] - 0s 7ms/step - loss: 0.0047 - accuracy: 1.0000 - val_loss: 8.2540e-04 - val_accuracy: 1.0000\n",
      "Epoch 78/100\n",
      "9/9 [==============================] - 0s 7ms/step - loss: 0.0046 - accuracy: 1.0000 - val_loss: 0.0019 - val_accuracy: 1.0000\n",
      "Epoch 79/100\n",
      "9/9 [==============================] - 0s 7ms/step - loss: 0.0050 - accuracy: 1.0000 - val_loss: 9.9557e-04 - val_accuracy: 1.0000\n",
      "Epoch 80/100\n",
      "9/9 [==============================] - 0s 7ms/step - loss: 0.0047 - accuracy: 1.0000 - val_loss: 0.0013 - val_accuracy: 1.0000\n",
      "Epoch 81/100\n",
      "9/9 [==============================] - 0s 7ms/step - loss: 0.0047 - accuracy: 1.0000 - val_loss: 9.9060e-04 - val_accuracy: 1.0000\n",
      "Epoch 82/100\n",
      "9/9 [==============================] - 0s 7ms/step - loss: 0.0047 - accuracy: 1.0000 - val_loss: 0.0011 - val_accuracy: 1.0000\n",
      "Epoch 83/100\n",
      "9/9 [==============================] - 0s 7ms/step - loss: 0.0050 - accuracy: 1.0000 - val_loss: 9.2387e-04 - val_accuracy: 1.0000\n",
      "Epoch 84/100\n",
      "9/9 [==============================] - 0s 7ms/step - loss: 0.0047 - accuracy: 1.0000 - val_loss: 0.0036 - val_accuracy: 1.0000\n",
      "Epoch 85/100\n",
      "9/9 [==============================] - 0s 7ms/step - loss: 0.0056 - accuracy: 1.0000 - val_loss: 5.0154e-04 - val_accuracy: 1.0000\n",
      "Epoch 86/100\n",
      "9/9 [==============================] - 0s 7ms/step - loss: 0.0051 - accuracy: 1.0000 - val_loss: 9.6258e-04 - val_accuracy: 1.0000\n",
      "Epoch 87/100\n",
      "9/9 [==============================] - 0s 7ms/step - loss: 0.0046 - accuracy: 1.0000 - val_loss: 0.0014 - val_accuracy: 1.0000\n",
      "Epoch 88/100\n",
      "9/9 [==============================] - 0s 7ms/step - loss: 0.0047 - accuracy: 1.0000 - val_loss: 7.2608e-04 - val_accuracy: 1.0000\n",
      "Epoch 89/100\n",
      "9/9 [==============================] - 0s 7ms/step - loss: 0.0045 - accuracy: 1.0000 - val_loss: 0.0012 - val_accuracy: 1.0000\n",
      "Epoch 90/100\n",
      "9/9 [==============================] - 0s 7ms/step - loss: 0.0048 - accuracy: 1.0000 - val_loss: 0.0029 - val_accuracy: 1.0000\n",
      "Epoch 91/100\n",
      "9/9 [==============================] - 0s 7ms/step - loss: 0.0054 - accuracy: 1.0000 - val_loss: 8.3678e-04 - val_accuracy: 1.0000\n",
      "Epoch 92/100\n",
      "9/9 [==============================] - 0s 7ms/step - loss: 0.0051 - accuracy: 1.0000 - val_loss: 6.5202e-04 - val_accuracy: 1.0000\n",
      "Epoch 93/100\n",
      "9/9 [==============================] - 0s 7ms/step - loss: 0.0045 - accuracy: 1.0000 - val_loss: 0.0015 - val_accuracy: 1.0000\n",
      "Epoch 94/100\n",
      "9/9 [==============================] - 0s 7ms/step - loss: 0.0049 - accuracy: 1.0000 - val_loss: 6.8332e-04 - val_accuracy: 1.0000\n",
      "Epoch 95/100\n",
      "9/9 [==============================] - 0s 7ms/step - loss: 0.0048 - accuracy: 1.0000 - val_loss: 0.0010 - val_accuracy: 1.0000\n",
      "Epoch 96/100\n",
      "9/9 [==============================] - 0s 7ms/step - loss: 0.0049 - accuracy: 1.0000 - val_loss: 0.0024 - val_accuracy: 1.0000\n",
      "Epoch 97/100\n",
      "9/9 [==============================] - 0s 7ms/step - loss: 0.0051 - accuracy: 1.0000 - val_loss: 0.0015 - val_accuracy: 1.0000\n",
      "Epoch 98/100\n",
      "9/9 [==============================] - 0s 7ms/step - loss: 0.0053 - accuracy: 1.0000 - val_loss: 6.8051e-04 - val_accuracy: 1.0000\n",
      "Epoch 99/100\n",
      "9/9 [==============================] - 0s 7ms/step - loss: 0.0048 - accuracy: 1.0000 - val_loss: 7.6269e-04 - val_accuracy: 1.0000\n",
      "Epoch 100/100\n",
      "9/9 [==============================] - 0s 6ms/step - loss: 0.0045 - accuracy: 1.0000 - val_loss: 9.9336e-04 - val_accuracy: 1.0000\n",
      "Model: \"sequential\"\n",
      "_________________________________________________________________\n",
      " Layer (type)                Output Shape              Param #   \n",
      "=================================================================\n",
      " lstm (LSTM)                 (None, 10, 64)            17664     \n",
      "                                                                 \n",
      " lstm_1 (LSTM)               (None, 64)                33024     \n",
      "                                                                 \n",
      " dense (Dense)               (None, 2)                 130       \n",
      "                                                                 \n",
      "=================================================================\n",
      "Total params: 50818 (198.51 KB)\n",
      "Trainable params: 50818 (198.51 KB)\n",
      "Non-trainable params: 0 (0.00 Byte)\n",
      "_________________________________________________________________\n"
     ]
    }
   ],
   "source": [
    "model = Sequential()\n",
    "\n",
    "NUM_OUTPUT_UNITS = 2\n",
    "\n",
    "model.add(LSTM(64, input_shape=(X_training.shape[1], X_training.shape[2]), activation='relu', return_sequences=True)) # LSTM layer with input shape (X_training.shape[1], X_training.shape[2]))\n",
    "model.add(LSTM(64, activation='relu', return_sequences=False)) # LSTM layer with return_sequences=False for the final prediction# LSTM layer with return_sequences=False for the final prediction\n",
    "model.add(Dense(NUM_OUTPUT_UNITS))# Dense output layer with NUM_OUTPUT_UNITS units\n",
    "\n",
    "model.compile(optimizer='adam', loss='mean_squared_error', metrics=['accuracy'])\n",
    "\n",
    "history = model.fit(X_training, y_training, batch_size=32, epochs=100, validation_split=0.2)\n",
    "\n",
    "model.summary()"
   ]
  },
  {
   "cell_type": "markdown",
   "metadata": {},
   "source": [
    "## Test"
   ]
  },
  {
   "cell_type": "code",
   "execution_count": null,
   "metadata": {},
   "outputs": [],
   "source": [
    "cap = cv2.VideoCapture(feedforward.CAMERA_INDEX)\n",
    "holistic = mp.solutions.holistic.Holistic()\n",
    "frame_buffer = []\n",
    "\n",
    "while cap.isOpened():\n",
    "    ret, frame = cap.read()\n",
    "    if not ret:\n",
    "        break\n",
    "\n",
    "    frame_rgb = cv2.cvtColor(frame, cv2.COLOR_BGR2RGB)\n",
    "\n",
    "    results = holistic.process(frame_rgb)\n",
    "\n",
    "    if results.pose_landmarks:\n",
    "        target_coords = results.pose_landmarks.landmark[TERGET_LANDMARK]\n",
    "        nose_coords = results.pose_landmarks.landmark[mp.solutions.holistic.PoseLandmark.NOSE]\n",
    "\n",
    "        target_input = [target_coords.x,  target_coords.y]\n",
    "        nose_input = [nose_coords.x, nose_coords.y]\n",
    "\n",
    "        frame_buffer.append(target_input + nose_input)\n",
    "\n",
    "        height, width, _ = frame.shape\n",
    "\n",
    "        pixel_coords_x, pixel_coords_y = int(target_coords.x * width), int(target_coords.y * height)\n",
    "        cv2.circle(frame, (pixel_coords_x, pixel_coords_y), 5, (255, 0, 0), -1)\n",
    "\n",
    "        if len(frame_buffer) >= WINDOW_LEN/2:\n",
    "            prediction_input = np.array(frame_buffer)[np.newaxis, :, :]\n",
    "            prediction = model.predict(prediction_input)\n",
    "\n",
    "            prediction_x = int(prediction[0][0] * width)\n",
    "            prediction_y = int(prediction[0][1] * height)\n",
    "            \n",
    "            cv2.arrowedLine(frame, (pixel_coords_x, pixel_coords_y), (prediction_x, prediction_y), (255, 0, 255), 2)\n",
    "\n",
    "            frame_buffer = frame_buffer[1:]\n",
    "\n",
    "    cv2.imshow('Video', frame)\n",
    "\n",
    "    if cv2.waitKey(1) & 0xFF == ord('q'):\n",
    "        break\n",
    "\n",
    "cap.release()\n",
    "cv2.destroyAllWindows()"
   ]
  }
 ],
 "metadata": {
  "kernelspec": {
   "display_name": "uit-proj",
   "language": "python",
   "name": "python3"
  },
  "language_info": {
   "codemirror_mode": {
    "name": "ipython",
    "version": 3
   },
   "file_extension": ".py",
   "mimetype": "text/x-python",
   "name": "python",
   "nbconvert_exporter": "python",
   "pygments_lexer": "ipython3",
   "version": "3.9.18"
  }
 },
 "nbformat": 4,
 "nbformat_minor": 2
}
