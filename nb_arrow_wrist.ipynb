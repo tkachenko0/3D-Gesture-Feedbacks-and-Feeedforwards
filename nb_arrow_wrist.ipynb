{
 "cells": [
  {
   "cell_type": "code",
   "execution_count": 1,
   "metadata": {},
   "outputs": [],
   "source": [
    "import os\n",
    "import cv2\n",
    "import mediapipe as mp\n",
    "import numpy as np\n",
    "\n",
    "from tensorflow.keras.models import Sequential\n",
    "from tensorflow.keras.layers import LSTM, Dense\n",
    "\n",
    "import feedforward"
   ]
  },
  {
   "cell_type": "markdown",
   "metadata": {},
   "source": [
    "## Setup folder and register the training data"
   ]
  },
  {
   "cell_type": "code",
   "execution_count": 2,
   "metadata": {},
   "outputs": [],
   "source": [
    "DATA_PATH = os.path.join('dist') "
   ]
  },
  {
   "cell_type": "code",
   "execution_count": 3,
   "metadata": {},
   "outputs": [],
   "source": [
    "feedforward.create_folder_if_not_exists(DATA_PATH)"
   ]
  },
  {
   "cell_type": "code",
   "execution_count": 4,
   "metadata": {},
   "outputs": [],
   "source": [
    "feedforward.clear_folder(DATA_PATH)"
   ]
  },
  {
   "cell_type": "code",
   "execution_count": 6,
   "metadata": {},
   "outputs": [],
   "source": [
    "num_videos = 20\n",
    "num_frames_per_video = 100\n",
    "prefix = 'arrow_wrist'"
   ]
  },
  {
   "cell_type": "code",
   "execution_count": 7,
   "metadata": {},
   "outputs": [
    {
     "name": "stderr",
     "output_type": "stream",
     "text": [
      "2023-10-12 22:28:51.945 python[48295:6604807] WARNING: AVCaptureDeviceTypeExternal is deprecated for Continuity Cameras. Please use AVCaptureDeviceTypeContinuityCamera and add NSCameraUseContinuityCameraDeviceType to your Info.plist.\n",
      "OpenCV: FFMPEG: tag 0x58564944/'DIVX' is not supported with codec id 12 and format 'mp4 / MP4 (MPEG-4 Part 14)'\n",
      "OpenCV: FFMPEG: fallback to use tag 0x7634706d/'mp4v'\n",
      "OpenCV: FFMPEG: tag 0x58564944/'DIVX' is not supported with codec id 12 and format 'mp4 / MP4 (MPEG-4 Part 14)'\n",
      "OpenCV: FFMPEG: fallback to use tag 0x7634706d/'mp4v'\n",
      "OpenCV: FFMPEG: tag 0x58564944/'DIVX' is not supported with codec id 12 and format 'mp4 / MP4 (MPEG-4 Part 14)'\n",
      "OpenCV: FFMPEG: fallback to use tag 0x7634706d/'mp4v'\n",
      "OpenCV: FFMPEG: tag 0x58564944/'DIVX' is not supported with codec id 12 and format 'mp4 / MP4 (MPEG-4 Part 14)'\n",
      "OpenCV: FFMPEG: fallback to use tag 0x7634706d/'mp4v'\n",
      "OpenCV: FFMPEG: tag 0x58564944/'DIVX' is not supported with codec id 12 and format 'mp4 / MP4 (MPEG-4 Part 14)'\n",
      "OpenCV: FFMPEG: fallback to use tag 0x7634706d/'mp4v'\n",
      "OpenCV: FFMPEG: tag 0x58564944/'DIVX' is not supported with codec id 12 and format 'mp4 / MP4 (MPEG-4 Part 14)'\n",
      "OpenCV: FFMPEG: fallback to use tag 0x7634706d/'mp4v'\n",
      "OpenCV: FFMPEG: tag 0x58564944/'DIVX' is not supported with codec id 12 and format 'mp4 / MP4 (MPEG-4 Part 14)'\n",
      "OpenCV: FFMPEG: fallback to use tag 0x7634706d/'mp4v'\n",
      "OpenCV: FFMPEG: tag 0x58564944/'DIVX' is not supported with codec id 12 and format 'mp4 / MP4 (MPEG-4 Part 14)'\n",
      "OpenCV: FFMPEG: fallback to use tag 0x7634706d/'mp4v'\n",
      "OpenCV: FFMPEG: tag 0x58564944/'DIVX' is not supported with codec id 12 and format 'mp4 / MP4 (MPEG-4 Part 14)'\n",
      "OpenCV: FFMPEG: fallback to use tag 0x7634706d/'mp4v'\n",
      "OpenCV: FFMPEG: tag 0x58564944/'DIVX' is not supported with codec id 12 and format 'mp4 / MP4 (MPEG-4 Part 14)'\n",
      "OpenCV: FFMPEG: fallback to use tag 0x7634706d/'mp4v'\n",
      "OpenCV: FFMPEG: tag 0x58564944/'DIVX' is not supported with codec id 12 and format 'mp4 / MP4 (MPEG-4 Part 14)'\n",
      "OpenCV: FFMPEG: fallback to use tag 0x7634706d/'mp4v'\n",
      "OpenCV: FFMPEG: tag 0x58564944/'DIVX' is not supported with codec id 12 and format 'mp4 / MP4 (MPEG-4 Part 14)'\n",
      "OpenCV: FFMPEG: fallback to use tag 0x7634706d/'mp4v'\n",
      "OpenCV: FFMPEG: tag 0x58564944/'DIVX' is not supported with codec id 12 and format 'mp4 / MP4 (MPEG-4 Part 14)'\n",
      "OpenCV: FFMPEG: fallback to use tag 0x7634706d/'mp4v'\n",
      "OpenCV: FFMPEG: tag 0x58564944/'DIVX' is not supported with codec id 12 and format 'mp4 / MP4 (MPEG-4 Part 14)'\n",
      "OpenCV: FFMPEG: fallback to use tag 0x7634706d/'mp4v'\n",
      "OpenCV: FFMPEG: tag 0x58564944/'DIVX' is not supported with codec id 12 and format 'mp4 / MP4 (MPEG-4 Part 14)'\n",
      "OpenCV: FFMPEG: fallback to use tag 0x7634706d/'mp4v'\n",
      "OpenCV: FFMPEG: tag 0x58564944/'DIVX' is not supported with codec id 12 and format 'mp4 / MP4 (MPEG-4 Part 14)'\n",
      "OpenCV: FFMPEG: fallback to use tag 0x7634706d/'mp4v'\n",
      "OpenCV: FFMPEG: tag 0x58564944/'DIVX' is not supported with codec id 12 and format 'mp4 / MP4 (MPEG-4 Part 14)'\n",
      "OpenCV: FFMPEG: fallback to use tag 0x7634706d/'mp4v'\n",
      "OpenCV: FFMPEG: tag 0x58564944/'DIVX' is not supported with codec id 12 and format 'mp4 / MP4 (MPEG-4 Part 14)'\n",
      "OpenCV: FFMPEG: fallback to use tag 0x7634706d/'mp4v'\n",
      "OpenCV: FFMPEG: tag 0x58564944/'DIVX' is not supported with codec id 12 and format 'mp4 / MP4 (MPEG-4 Part 14)'\n",
      "OpenCV: FFMPEG: fallback to use tag 0x7634706d/'mp4v'\n",
      "OpenCV: FFMPEG: tag 0x58564944/'DIVX' is not supported with codec id 12 and format 'mp4 / MP4 (MPEG-4 Part 14)'\n",
      "OpenCV: FFMPEG: fallback to use tag 0x7634706d/'mp4v'\n"
     ]
    }
   ],
   "source": [
    "feedforward.register_videos(DATA_PATH, prefix, num_videos, num_frames_per_video)"
   ]
  },
  {
   "cell_type": "markdown",
   "metadata": {},
   "source": [
    "## Build Model"
   ]
  },
  {
   "cell_type": "code",
   "execution_count": 8,
   "metadata": {},
   "outputs": [
    {
     "name": "stdout",
     "output_type": "stream",
     "text": [
      "Processing video #0 / 20...\n"
     ]
    },
    {
     "name": "stderr",
     "output_type": "stream",
     "text": [
      "OpenCV: FFMPEG: tag 0x58564944/'DIVX' is not supported with codec id 12 and format 'mp4 / MP4 (MPEG-4 Part 14)'\n",
      "OpenCV: FFMPEG: fallback to use tag 0x7634706d/'mp4v'\n"
     ]
    },
    {
     "name": "stdout",
     "output_type": "stream",
     "text": [
      "Processing video #1 / 20...\n"
     ]
    },
    {
     "name": "stderr",
     "output_type": "stream",
     "text": [
      "OpenCV: FFMPEG: tag 0x58564944/'DIVX' is not supported with codec id 12 and format 'mp4 / MP4 (MPEG-4 Part 14)'\n",
      "OpenCV: FFMPEG: fallback to use tag 0x7634706d/'mp4v'\n"
     ]
    },
    {
     "name": "stdout",
     "output_type": "stream",
     "text": [
      "Processing video #2 / 20...\n"
     ]
    },
    {
     "name": "stderr",
     "output_type": "stream",
     "text": [
      "OpenCV: FFMPEG: tag 0x58564944/'DIVX' is not supported with codec id 12 and format 'mp4 / MP4 (MPEG-4 Part 14)'\n",
      "OpenCV: FFMPEG: fallback to use tag 0x7634706d/'mp4v'\n"
     ]
    },
    {
     "name": "stdout",
     "output_type": "stream",
     "text": [
      "Processing video #3 / 20...\n"
     ]
    },
    {
     "name": "stderr",
     "output_type": "stream",
     "text": [
      "OpenCV: FFMPEG: tag 0x58564944/'DIVX' is not supported with codec id 12 and format 'mp4 / MP4 (MPEG-4 Part 14)'\n",
      "OpenCV: FFMPEG: fallback to use tag 0x7634706d/'mp4v'\n"
     ]
    },
    {
     "name": "stdout",
     "output_type": "stream",
     "text": [
      "Processing video #4 / 20...\n"
     ]
    },
    {
     "name": "stderr",
     "output_type": "stream",
     "text": [
      "OpenCV: FFMPEG: tag 0x58564944/'DIVX' is not supported with codec id 12 and format 'mp4 / MP4 (MPEG-4 Part 14)'\n",
      "OpenCV: FFMPEG: fallback to use tag 0x7634706d/'mp4v'\n"
     ]
    },
    {
     "name": "stdout",
     "output_type": "stream",
     "text": [
      "Processing video #5 / 20...\n"
     ]
    },
    {
     "name": "stderr",
     "output_type": "stream",
     "text": [
      "OpenCV: FFMPEG: tag 0x58564944/'DIVX' is not supported with codec id 12 and format 'mp4 / MP4 (MPEG-4 Part 14)'\n",
      "OpenCV: FFMPEG: fallback to use tag 0x7634706d/'mp4v'\n"
     ]
    },
    {
     "name": "stdout",
     "output_type": "stream",
     "text": [
      "Processing video #6 / 20...\n"
     ]
    },
    {
     "name": "stderr",
     "output_type": "stream",
     "text": [
      "OpenCV: FFMPEG: tag 0x58564944/'DIVX' is not supported with codec id 12 and format 'mp4 / MP4 (MPEG-4 Part 14)'\n",
      "OpenCV: FFMPEG: fallback to use tag 0x7634706d/'mp4v'\n"
     ]
    },
    {
     "name": "stdout",
     "output_type": "stream",
     "text": [
      "Processing video #7 / 20...\n"
     ]
    },
    {
     "name": "stderr",
     "output_type": "stream",
     "text": [
      "OpenCV: FFMPEG: tag 0x58564944/'DIVX' is not supported with codec id 12 and format 'mp4 / MP4 (MPEG-4 Part 14)'\n",
      "OpenCV: FFMPEG: fallback to use tag 0x7634706d/'mp4v'\n"
     ]
    },
    {
     "name": "stdout",
     "output_type": "stream",
     "text": [
      "Processing video #8 / 20...\n"
     ]
    },
    {
     "name": "stderr",
     "output_type": "stream",
     "text": [
      "OpenCV: FFMPEG: tag 0x58564944/'DIVX' is not supported with codec id 12 and format 'mp4 / MP4 (MPEG-4 Part 14)'\n",
      "OpenCV: FFMPEG: fallback to use tag 0x7634706d/'mp4v'\n"
     ]
    },
    {
     "name": "stdout",
     "output_type": "stream",
     "text": [
      "Processing video #9 / 20...\n"
     ]
    },
    {
     "name": "stderr",
     "output_type": "stream",
     "text": [
      "OpenCV: FFMPEG: tag 0x58564944/'DIVX' is not supported with codec id 12 and format 'mp4 / MP4 (MPEG-4 Part 14)'\n",
      "OpenCV: FFMPEG: fallback to use tag 0x7634706d/'mp4v'\n"
     ]
    },
    {
     "name": "stdout",
     "output_type": "stream",
     "text": [
      "Processing video #10 / 20...\n"
     ]
    },
    {
     "name": "stderr",
     "output_type": "stream",
     "text": [
      "OpenCV: FFMPEG: tag 0x58564944/'DIVX' is not supported with codec id 12 and format 'mp4 / MP4 (MPEG-4 Part 14)'\n",
      "OpenCV: FFMPEG: fallback to use tag 0x7634706d/'mp4v'\n"
     ]
    },
    {
     "name": "stdout",
     "output_type": "stream",
     "text": [
      "Processing video #11 / 20...\n"
     ]
    },
    {
     "name": "stderr",
     "output_type": "stream",
     "text": [
      "OpenCV: FFMPEG: tag 0x58564944/'DIVX' is not supported with codec id 12 and format 'mp4 / MP4 (MPEG-4 Part 14)'\n",
      "OpenCV: FFMPEG: fallback to use tag 0x7634706d/'mp4v'\n"
     ]
    },
    {
     "name": "stdout",
     "output_type": "stream",
     "text": [
      "Processing video #12 / 20...\n"
     ]
    },
    {
     "name": "stderr",
     "output_type": "stream",
     "text": [
      "OpenCV: FFMPEG: tag 0x58564944/'DIVX' is not supported with codec id 12 and format 'mp4 / MP4 (MPEG-4 Part 14)'\n",
      "OpenCV: FFMPEG: fallback to use tag 0x7634706d/'mp4v'\n"
     ]
    },
    {
     "name": "stdout",
     "output_type": "stream",
     "text": [
      "Processing video #13 / 20...\n"
     ]
    },
    {
     "name": "stderr",
     "output_type": "stream",
     "text": [
      "OpenCV: FFMPEG: tag 0x58564944/'DIVX' is not supported with codec id 12 and format 'mp4 / MP4 (MPEG-4 Part 14)'\n",
      "OpenCV: FFMPEG: fallback to use tag 0x7634706d/'mp4v'\n"
     ]
    },
    {
     "name": "stdout",
     "output_type": "stream",
     "text": [
      "Processing video #14 / 20...\n"
     ]
    },
    {
     "name": "stderr",
     "output_type": "stream",
     "text": [
      "OpenCV: FFMPEG: tag 0x58564944/'DIVX' is not supported with codec id 12 and format 'mp4 / MP4 (MPEG-4 Part 14)'\n",
      "OpenCV: FFMPEG: fallback to use tag 0x7634706d/'mp4v'\n"
     ]
    },
    {
     "name": "stdout",
     "output_type": "stream",
     "text": [
      "Processing video #15 / 20...\n"
     ]
    },
    {
     "name": "stderr",
     "output_type": "stream",
     "text": [
      "OpenCV: FFMPEG: tag 0x58564944/'DIVX' is not supported with codec id 12 and format 'mp4 / MP4 (MPEG-4 Part 14)'\n",
      "OpenCV: FFMPEG: fallback to use tag 0x7634706d/'mp4v'\n"
     ]
    },
    {
     "name": "stdout",
     "output_type": "stream",
     "text": [
      "Processing video #16 / 20...\n"
     ]
    },
    {
     "name": "stderr",
     "output_type": "stream",
     "text": [
      "OpenCV: FFMPEG: tag 0x58564944/'DIVX' is not supported with codec id 12 and format 'mp4 / MP4 (MPEG-4 Part 14)'\n",
      "OpenCV: FFMPEG: fallback to use tag 0x7634706d/'mp4v'\n"
     ]
    },
    {
     "name": "stdout",
     "output_type": "stream",
     "text": [
      "Processing video #17 / 20...\n"
     ]
    },
    {
     "name": "stderr",
     "output_type": "stream",
     "text": [
      "OpenCV: FFMPEG: tag 0x58564944/'DIVX' is not supported with codec id 12 and format 'mp4 / MP4 (MPEG-4 Part 14)'\n",
      "OpenCV: FFMPEG: fallback to use tag 0x7634706d/'mp4v'\n"
     ]
    },
    {
     "name": "stdout",
     "output_type": "stream",
     "text": [
      "Processing video #18 / 20...\n"
     ]
    },
    {
     "name": "stderr",
     "output_type": "stream",
     "text": [
      "OpenCV: FFMPEG: tag 0x58564944/'DIVX' is not supported with codec id 12 and format 'mp4 / MP4 (MPEG-4 Part 14)'\n",
      "OpenCV: FFMPEG: fallback to use tag 0x7634706d/'mp4v'\n"
     ]
    },
    {
     "name": "stdout",
     "output_type": "stream",
     "text": [
      "Processing video #19 / 20...\n"
     ]
    },
    {
     "name": "stderr",
     "output_type": "stream",
     "text": [
      "OpenCV: FFMPEG: tag 0x58564944/'DIVX' is not supported with codec id 12 and format 'mp4 / MP4 (MPEG-4 Part 14)'\n",
      "OpenCV: FFMPEG: fallback to use tag 0x7634706d/'mp4v'\n"
     ]
    }
   ],
   "source": [
    "prefix_for_augmented = \"augmented_\"\n",
    "feedforward.augment_dataset(DATA_PATH, prefix_for_augmented)"
   ]
  },
  {
   "cell_type": "code",
   "execution_count": null,
   "metadata": {},
   "outputs": [],
   "source": [
    "feedforward.delete_files_with_prefix(DATA_PATH, prefix_for_augmented)"
   ]
  },
  {
   "cell_type": "code",
   "execution_count": 9,
   "metadata": {},
   "outputs": [
    {
     "name": "stdout",
     "output_type": "stream",
     "text": [
      "Processing video #1...\n"
     ]
    },
    {
     "name": "stderr",
     "output_type": "stream",
     "text": [
      "INFO: Created TensorFlow Lite XNNPACK delegate for CPU.\n"
     ]
    },
    {
     "name": "stdout",
     "output_type": "stream",
     "text": [
      "Processing video #2...\n",
      "Processing video #3...\n",
      "Processing video #4...\n",
      "Processing video #5...\n",
      "Processing video #6...\n",
      "Processing video #7...\n",
      "Processing video #8...\n",
      "Processing video #9...\n",
      "Processing video #10...\n",
      "Processing video #11...\n",
      "Processing video #12...\n",
      "Processing video #13...\n",
      "Processing video #14...\n",
      "Processing video #15...\n",
      "Processing video #16...\n",
      "Processing video #17...\n",
      "Processing video #18...\n",
      "Processing video #19...\n",
      "Processing video #20...\n",
      "Processing video #21...\n",
      "Processing video #22...\n",
      "Processing video #23...\n",
      "Processing video #24...\n",
      "Processing video #25...\n",
      "Processing video #26...\n",
      "Processing video #27...\n",
      "Processing video #28...\n",
      "Processing video #29...\n",
      "Processing video #30...\n",
      "Processing video #31...\n",
      "Processing video #32...\n",
      "Processing video #33...\n",
      "Processing video #34...\n",
      "Processing video #35...\n",
      "Processing video #36...\n",
      "Processing video #37...\n",
      "Processing video #38...\n",
      "Processing video #39...\n",
      "Processing video #40...\n"
     ]
    },
    {
     "data": {
      "text/plain": [
       "((3231, 10, 2), (3231, 2))"
      ]
     },
     "execution_count": 9,
     "metadata": {},
     "output_type": "execute_result"
    }
   ],
   "source": [
    "window_len = 20\n",
    "X_training, y_training = feedforward.build_training_data(DATA_PATH, window_len)\n",
    "X_training.shape, y_training.shape"
   ]
  },
  {
   "cell_type": "code",
   "execution_count": 10,
   "metadata": {},
   "outputs": [
    {
     "name": "stdout",
     "output_type": "stream",
     "text": [
      "Epoch 1/100\n",
      "81/81 [==============================] - 2s 7ms/step - loss: 0.0864 - accuracy: 0.7121 - val_loss: 0.0264 - val_accuracy: 0.7187\n",
      "Epoch 2/100\n",
      "81/81 [==============================] - 0s 5ms/step - loss: 0.0222 - accuracy: 0.7519 - val_loss: 0.0172 - val_accuracy: 0.7682\n",
      "Epoch 3/100\n",
      "81/81 [==============================] - 0s 5ms/step - loss: 0.0172 - accuracy: 0.7728 - val_loss: 0.0149 - val_accuracy: 0.7805\n",
      "Epoch 4/100\n",
      "81/81 [==============================] - 0s 5ms/step - loss: 0.0137 - accuracy: 0.8038 - val_loss: 0.0126 - val_accuracy: 0.8192\n",
      "Epoch 5/100\n",
      "81/81 [==============================] - 0s 5ms/step - loss: 0.0118 - accuracy: 0.8437 - val_loss: 0.0126 - val_accuracy: 0.8454\n",
      "Epoch 6/100\n",
      "81/81 [==============================] - 0s 5ms/step - loss: 0.0110 - accuracy: 0.8618 - val_loss: 0.0097 - val_accuracy: 0.8594\n",
      "Epoch 7/100\n",
      "81/81 [==============================] - 0s 6ms/step - loss: 0.0106 - accuracy: 0.8653 - val_loss: 0.0105 - val_accuracy: 0.8640\n",
      "Epoch 8/100\n",
      "81/81 [==============================] - 0s 5ms/step - loss: 0.0099 - accuracy: 0.8649 - val_loss: 0.0088 - val_accuracy: 0.8609\n",
      "Epoch 9/100\n",
      "81/81 [==============================] - 0s 6ms/step - loss: 0.0096 - accuracy: 0.8646 - val_loss: 0.0089 - val_accuracy: 0.8624\n",
      "Epoch 10/100\n",
      "81/81 [==============================] - 0s 5ms/step - loss: 0.0093 - accuracy: 0.8700 - val_loss: 0.0100 - val_accuracy: 0.8454\n",
      "Epoch 11/100\n",
      "81/81 [==============================] - 0s 5ms/step - loss: 0.0087 - accuracy: 0.8696 - val_loss: 0.0092 - val_accuracy: 0.8578\n",
      "Epoch 12/100\n",
      "81/81 [==============================] - 0s 5ms/step - loss: 0.0090 - accuracy: 0.8646 - val_loss: 0.0084 - val_accuracy: 0.8655\n",
      "Epoch 13/100\n",
      "81/81 [==============================] - 0s 6ms/step - loss: 0.0083 - accuracy: 0.8719 - val_loss: 0.0084 - val_accuracy: 0.8609\n",
      "Epoch 14/100\n",
      "81/81 [==============================] - 0s 6ms/step - loss: 0.0082 - accuracy: 0.8649 - val_loss: 0.0079 - val_accuracy: 0.8454\n",
      "Epoch 15/100\n",
      "81/81 [==============================] - 0s 5ms/step - loss: 0.0075 - accuracy: 0.8676 - val_loss: 0.0070 - val_accuracy: 0.8655\n",
      "Epoch 16/100\n",
      "81/81 [==============================] - 0s 5ms/step - loss: 0.0068 - accuracy: 0.8735 - val_loss: 0.0076 - val_accuracy: 0.8671\n",
      "Epoch 17/100\n",
      "81/81 [==============================] - 0s 5ms/step - loss: 0.0067 - accuracy: 0.8684 - val_loss: 0.0068 - val_accuracy: 0.8501\n",
      "Epoch 18/100\n",
      "81/81 [==============================] - 0s 5ms/step - loss: 0.0078 - accuracy: 0.8731 - val_loss: 0.0088 - val_accuracy: 0.8655\n",
      "Epoch 19/100\n",
      "81/81 [==============================] - 0s 5ms/step - loss: 0.0066 - accuracy: 0.8808 - val_loss: 0.0061 - val_accuracy: 0.8748\n",
      "Epoch 20/100\n",
      "81/81 [==============================] - 0s 5ms/step - loss: 0.0062 - accuracy: 0.8777 - val_loss: 0.0059 - val_accuracy: 0.8779\n",
      "Epoch 21/100\n",
      "81/81 [==============================] - 0s 5ms/step - loss: 0.0057 - accuracy: 0.8920 - val_loss: 0.0055 - val_accuracy: 0.8794\n",
      "Epoch 22/100\n",
      "81/81 [==============================] - 0s 5ms/step - loss: 0.0053 - accuracy: 0.8916 - val_loss: 0.0055 - val_accuracy: 0.8856\n",
      "Epoch 23/100\n",
      "81/81 [==============================] - 0s 5ms/step - loss: 0.0053 - accuracy: 0.8924 - val_loss: 0.0069 - val_accuracy: 0.8702\n",
      "Epoch 24/100\n",
      "81/81 [==============================] - 0s 5ms/step - loss: 0.0056 - accuracy: 0.8998 - val_loss: 0.0052 - val_accuracy: 0.9057\n",
      "Epoch 25/100\n",
      "81/81 [==============================] - 0s 5ms/step - loss: 0.0050 - accuracy: 0.8982 - val_loss: 0.0056 - val_accuracy: 0.9042\n",
      "Epoch 26/100\n",
      "81/81 [==============================] - 0s 5ms/step - loss: 0.0049 - accuracy: 0.9048 - val_loss: 0.0049 - val_accuracy: 0.9042\n",
      "Epoch 27/100\n",
      "81/81 [==============================] - 0s 5ms/step - loss: 0.0048 - accuracy: 0.9114 - val_loss: 0.0050 - val_accuracy: 0.8918\n",
      "Epoch 28/100\n",
      "81/81 [==============================] - 0s 5ms/step - loss: 0.0049 - accuracy: 0.9079 - val_loss: 0.0058 - val_accuracy: 0.9057\n",
      "Epoch 29/100\n",
      "81/81 [==============================] - 0s 5ms/step - loss: 0.0045 - accuracy: 0.9048 - val_loss: 0.0059 - val_accuracy: 0.9134\n",
      "Epoch 30/100\n",
      "81/81 [==============================] - 0s 5ms/step - loss: 0.0052 - accuracy: 0.9025 - val_loss: 0.0052 - val_accuracy: 0.8964\n",
      "Epoch 31/100\n",
      "81/81 [==============================] - 0s 5ms/step - loss: 0.0046 - accuracy: 0.9141 - val_loss: 0.0057 - val_accuracy: 0.9134\n",
      "Epoch 32/100\n",
      "81/81 [==============================] - 0s 5ms/step - loss: 0.0051 - accuracy: 0.9056 - val_loss: 0.0057 - val_accuracy: 0.9073\n",
      "Epoch 33/100\n",
      "81/81 [==============================] - 0s 5ms/step - loss: 0.0044 - accuracy: 0.9187 - val_loss: 0.0048 - val_accuracy: 0.8995\n",
      "Epoch 34/100\n",
      "81/81 [==============================] - 0s 5ms/step - loss: 0.0046 - accuracy: 0.9137 - val_loss: 0.0050 - val_accuracy: 0.8964\n",
      "Epoch 35/100\n",
      "81/81 [==============================] - 0s 5ms/step - loss: 0.0041 - accuracy: 0.9211 - val_loss: 0.0047 - val_accuracy: 0.8964\n",
      "Epoch 36/100\n",
      "81/81 [==============================] - 0s 5ms/step - loss: 0.0042 - accuracy: 0.9199 - val_loss: 0.0046 - val_accuracy: 0.9150\n",
      "Epoch 37/100\n",
      "81/81 [==============================] - 0s 5ms/step - loss: 0.0044 - accuracy: 0.9211 - val_loss: 0.0068 - val_accuracy: 0.8779\n",
      "Epoch 38/100\n",
      "81/81 [==============================] - 0s 5ms/step - loss: 0.0046 - accuracy: 0.9180 - val_loss: 0.0048 - val_accuracy: 0.9088\n",
      "Epoch 39/100\n",
      "81/81 [==============================] - 0s 5ms/step - loss: 0.0041 - accuracy: 0.9214 - val_loss: 0.0054 - val_accuracy: 0.9042\n",
      "Epoch 40/100\n",
      "81/81 [==============================] - 0s 5ms/step - loss: 0.0040 - accuracy: 0.9222 - val_loss: 0.0056 - val_accuracy: 0.9073\n",
      "Epoch 41/100\n",
      "81/81 [==============================] - 0s 5ms/step - loss: 0.0043 - accuracy: 0.9187 - val_loss: 0.0052 - val_accuracy: 0.9026\n",
      "Epoch 42/100\n",
      "81/81 [==============================] - 0s 5ms/step - loss: 0.0043 - accuracy: 0.9168 - val_loss: 0.0065 - val_accuracy: 0.8856\n",
      "Epoch 43/100\n",
      "81/81 [==============================] - 0s 5ms/step - loss: 0.0043 - accuracy: 0.9211 - val_loss: 0.0049 - val_accuracy: 0.9057\n",
      "Epoch 44/100\n",
      "81/81 [==============================] - 0s 5ms/step - loss: 0.0045 - accuracy: 0.9183 - val_loss: 0.0048 - val_accuracy: 0.9119\n",
      "Epoch 45/100\n",
      "81/81 [==============================] - 0s 5ms/step - loss: 0.0040 - accuracy: 0.9241 - val_loss: 0.0050 - val_accuracy: 0.9134\n",
      "Epoch 46/100\n",
      "81/81 [==============================] - 0s 5ms/step - loss: 0.0038 - accuracy: 0.9234 - val_loss: 0.0051 - val_accuracy: 0.9042\n",
      "Epoch 47/100\n",
      "81/81 [==============================] - 0s 5ms/step - loss: 0.0041 - accuracy: 0.9230 - val_loss: 0.0057 - val_accuracy: 0.9088\n",
      "Epoch 48/100\n",
      "81/81 [==============================] - 0s 5ms/step - loss: 0.0038 - accuracy: 0.9257 - val_loss: 0.0046 - val_accuracy: 0.9165\n",
      "Epoch 49/100\n",
      "81/81 [==============================] - 0s 5ms/step - loss: 0.0038 - accuracy: 0.9199 - val_loss: 0.0044 - val_accuracy: 0.9227\n",
      "Epoch 50/100\n",
      "81/81 [==============================] - 0s 5ms/step - loss: 0.0040 - accuracy: 0.9176 - val_loss: 0.0055 - val_accuracy: 0.9042\n",
      "Epoch 51/100\n",
      "81/81 [==============================] - 0s 5ms/step - loss: 0.0037 - accuracy: 0.9272 - val_loss: 0.0056 - val_accuracy: 0.9088\n",
      "Epoch 52/100\n",
      "81/81 [==============================] - 0s 5ms/step - loss: 0.0036 - accuracy: 0.9238 - val_loss: 0.0078 - val_accuracy: 0.8918\n",
      "Epoch 53/100\n",
      "81/81 [==============================] - 0s 5ms/step - loss: 0.0038 - accuracy: 0.9257 - val_loss: 0.0066 - val_accuracy: 0.9088\n",
      "Epoch 54/100\n",
      "81/81 [==============================] - 0s 5ms/step - loss: 0.0037 - accuracy: 0.9296 - val_loss: 0.0061 - val_accuracy: 0.9073\n",
      "Epoch 55/100\n",
      "81/81 [==============================] - 0s 5ms/step - loss: 0.0037 - accuracy: 0.9284 - val_loss: 0.0067 - val_accuracy: 0.9073\n",
      "Epoch 56/100\n",
      "81/81 [==============================] - 0s 5ms/step - loss: 0.0038 - accuracy: 0.9207 - val_loss: 0.0053 - val_accuracy: 0.9181\n",
      "Epoch 57/100\n",
      "81/81 [==============================] - 0s 5ms/step - loss: 0.0039 - accuracy: 0.9207 - val_loss: 0.0054 - val_accuracy: 0.9165\n",
      "Epoch 58/100\n",
      "81/81 [==============================] - 0s 6ms/step - loss: 0.0034 - accuracy: 0.9350 - val_loss: 0.0052 - val_accuracy: 0.9165\n",
      "Epoch 59/100\n",
      "81/81 [==============================] - 0s 5ms/step - loss: 0.0039 - accuracy: 0.9141 - val_loss: 0.0055 - val_accuracy: 0.9104\n",
      "Epoch 60/100\n",
      "81/81 [==============================] - 0s 5ms/step - loss: 0.0036 - accuracy: 0.9280 - val_loss: 0.0058 - val_accuracy: 0.9104\n",
      "Epoch 61/100\n",
      "81/81 [==============================] - 0s 5ms/step - loss: 0.0038 - accuracy: 0.9249 - val_loss: 0.0061 - val_accuracy: 0.9104\n",
      "Epoch 62/100\n",
      "81/81 [==============================] - 0s 5ms/step - loss: 0.0038 - accuracy: 0.9226 - val_loss: 0.0055 - val_accuracy: 0.9181\n",
      "Epoch 63/100\n",
      "81/81 [==============================] - 0s 5ms/step - loss: 0.0038 - accuracy: 0.9253 - val_loss: 0.0048 - val_accuracy: 0.9212\n",
      "Epoch 64/100\n",
      "81/81 [==============================] - 0s 5ms/step - loss: 0.0034 - accuracy: 0.9288 - val_loss: 0.0047 - val_accuracy: 0.9165\n",
      "Epoch 65/100\n",
      "81/81 [==============================] - 0s 5ms/step - loss: 0.0038 - accuracy: 0.9257 - val_loss: 0.0047 - val_accuracy: 0.9165\n",
      "Epoch 66/100\n",
      "81/81 [==============================] - 0s 5ms/step - loss: 0.0035 - accuracy: 0.9222 - val_loss: 0.0048 - val_accuracy: 0.9119\n",
      "Epoch 67/100\n",
      "81/81 [==============================] - 0s 5ms/step - loss: 0.0037 - accuracy: 0.9230 - val_loss: 0.0056 - val_accuracy: 0.9104\n",
      "Epoch 68/100\n",
      "81/81 [==============================] - 0s 5ms/step - loss: 0.0035 - accuracy: 0.9272 - val_loss: 0.0044 - val_accuracy: 0.9181\n",
      "Epoch 69/100\n",
      "81/81 [==============================] - 0s 6ms/step - loss: 0.0035 - accuracy: 0.9315 - val_loss: 0.0049 - val_accuracy: 0.9181\n",
      "Epoch 70/100\n",
      "81/81 [==============================] - 0s 5ms/step - loss: 0.0033 - accuracy: 0.9300 - val_loss: 0.0047 - val_accuracy: 0.9165\n",
      "Epoch 71/100\n",
      "81/81 [==============================] - 0s 5ms/step - loss: 0.0037 - accuracy: 0.9195 - val_loss: 0.0052 - val_accuracy: 0.9165\n",
      "Epoch 72/100\n",
      "81/81 [==============================] - 0s 5ms/step - loss: 0.0040 - accuracy: 0.9218 - val_loss: 0.0047 - val_accuracy: 0.9227\n",
      "Epoch 73/100\n",
      "81/81 [==============================] - 0s 5ms/step - loss: 0.0034 - accuracy: 0.9296 - val_loss: 0.0052 - val_accuracy: 0.9104\n",
      "Epoch 74/100\n",
      "81/81 [==============================] - 0s 5ms/step - loss: 0.0034 - accuracy: 0.9303 - val_loss: 0.0053 - val_accuracy: 0.9104\n",
      "Epoch 75/100\n",
      "81/81 [==============================] - 0s 5ms/step - loss: 0.0033 - accuracy: 0.9300 - val_loss: 0.0051 - val_accuracy: 0.9243\n",
      "Epoch 76/100\n",
      "81/81 [==============================] - 0s 5ms/step - loss: 0.0033 - accuracy: 0.9296 - val_loss: 0.0055 - val_accuracy: 0.9150\n",
      "Epoch 77/100\n",
      "81/81 [==============================] - 0s 5ms/step - loss: 0.0034 - accuracy: 0.9292 - val_loss: 0.0049 - val_accuracy: 0.9165\n",
      "Epoch 78/100\n",
      "81/81 [==============================] - 0s 5ms/step - loss: 0.0032 - accuracy: 0.9377 - val_loss: 0.0049 - val_accuracy: 0.9150\n",
      "Epoch 79/100\n",
      "81/81 [==============================] - 0s 5ms/step - loss: 0.0033 - accuracy: 0.9307 - val_loss: 0.0053 - val_accuracy: 0.9196\n",
      "Epoch 80/100\n",
      "81/81 [==============================] - 0s 6ms/step - loss: 0.0030 - accuracy: 0.9338 - val_loss: 0.0057 - val_accuracy: 0.9119\n",
      "Epoch 81/100\n",
      "81/81 [==============================] - 0s 5ms/step - loss: 0.0031 - accuracy: 0.9327 - val_loss: 0.0059 - val_accuracy: 0.9165\n",
      "Epoch 82/100\n",
      "81/81 [==============================] - 0s 5ms/step - loss: 0.0033 - accuracy: 0.9319 - val_loss: 0.0052 - val_accuracy: 0.9165\n",
      "Epoch 83/100\n",
      "81/81 [==============================] - 0s 5ms/step - loss: 0.0035 - accuracy: 0.9245 - val_loss: 0.0049 - val_accuracy: 0.9243\n",
      "Epoch 84/100\n",
      "81/81 [==============================] - 0s 5ms/step - loss: 0.0035 - accuracy: 0.9342 - val_loss: 0.0044 - val_accuracy: 0.9243\n",
      "Epoch 85/100\n",
      "81/81 [==============================] - 0s 5ms/step - loss: 0.0035 - accuracy: 0.9296 - val_loss: 0.0052 - val_accuracy: 0.9134\n",
      "Epoch 86/100\n",
      "81/81 [==============================] - 0s 5ms/step - loss: 0.0031 - accuracy: 0.9350 - val_loss: 0.0068 - val_accuracy: 0.9119\n",
      "Epoch 87/100\n",
      "81/81 [==============================] - 0s 5ms/step - loss: 0.0035 - accuracy: 0.9288 - val_loss: 0.0057 - val_accuracy: 0.9073\n",
      "Epoch 88/100\n",
      "81/81 [==============================] - 0s 5ms/step - loss: 0.0030 - accuracy: 0.9346 - val_loss: 0.0043 - val_accuracy: 0.9258\n",
      "Epoch 89/100\n",
      "81/81 [==============================] - 0s 6ms/step - loss: 0.0033 - accuracy: 0.9323 - val_loss: 0.0057 - val_accuracy: 0.8964\n",
      "Epoch 90/100\n",
      "81/81 [==============================] - 0s 6ms/step - loss: 0.0031 - accuracy: 0.9311 - val_loss: 0.0052 - val_accuracy: 0.9104\n",
      "Epoch 91/100\n",
      "81/81 [==============================] - 0s 5ms/step - loss: 0.0035 - accuracy: 0.9315 - val_loss: 0.0059 - val_accuracy: 0.9134\n",
      "Epoch 92/100\n",
      "81/81 [==============================] - 0s 5ms/step - loss: 0.0032 - accuracy: 0.9365 - val_loss: 0.0048 - val_accuracy: 0.9196\n",
      "Epoch 93/100\n",
      "81/81 [==============================] - 0s 5ms/step - loss: 0.0032 - accuracy: 0.9354 - val_loss: 0.0053 - val_accuracy: 0.9150\n",
      "Epoch 94/100\n",
      "81/81 [==============================] - 0s 5ms/step - loss: 0.0030 - accuracy: 0.9338 - val_loss: 0.0060 - val_accuracy: 0.9104\n",
      "Epoch 95/100\n",
      "81/81 [==============================] - 0s 5ms/step - loss: 0.0031 - accuracy: 0.9400 - val_loss: 0.0050 - val_accuracy: 0.9134\n",
      "Epoch 96/100\n",
      "81/81 [==============================] - 0s 5ms/step - loss: 0.0033 - accuracy: 0.9307 - val_loss: 0.0054 - val_accuracy: 0.9181\n",
      "Epoch 97/100\n",
      "81/81 [==============================] - 0s 5ms/step - loss: 0.0034 - accuracy: 0.9392 - val_loss: 0.0046 - val_accuracy: 0.9196\n",
      "Epoch 98/100\n",
      "81/81 [==============================] - 0s 5ms/step - loss: 0.0029 - accuracy: 0.9373 - val_loss: 0.0052 - val_accuracy: 0.9104\n",
      "Epoch 99/100\n",
      "81/81 [==============================] - 0s 5ms/step - loss: 0.0029 - accuracy: 0.9400 - val_loss: 0.0049 - val_accuracy: 0.9196\n",
      "Epoch 100/100\n",
      "81/81 [==============================] - 0s 5ms/step - loss: 0.0029 - accuracy: 0.9389 - val_loss: 0.0048 - val_accuracy: 0.9196\n",
      "Model: \"sequential\"\n",
      "_________________________________________________________________\n",
      " Layer (type)                Output Shape              Param #   \n",
      "=================================================================\n",
      " lstm (LSTM)                 (None, 10, 64)            17152     \n",
      "                                                                 \n",
      " lstm_1 (LSTM)               (None, 64)                33024     \n",
      "                                                                 \n",
      " dense (Dense)               (None, 2)                 130       \n",
      "                                                                 \n",
      "=================================================================\n",
      "Total params: 50306 (196.51 KB)\n",
      "Trainable params: 50306 (196.51 KB)\n",
      "Non-trainable params: 0 (0.00 Byte)\n",
      "_________________________________________________________________\n"
     ]
    }
   ],
   "source": [
    "model = Sequential()\n",
    "\n",
    "model.add(LSTM(64, input_shape=(X_training.shape[1], X_training.shape[2]), activation='relu', return_sequences=True)) # LSTM layer with input shape (X_training.shape[1], X_training.shape[2]))\n",
    "model.add(LSTM(64, activation='relu', return_sequences=False)) # LSTM layer with return_sequences=False for the final prediction# LSTM layer with return_sequences=False for the final prediction\n",
    "model.add(Dense(2))# Dense output layer with N units\n",
    "\n",
    "model.compile(optimizer='adam', loss='mean_squared_error', metrics=['accuracy'])\n",
    "\n",
    "history = model.fit(X_training, y_training, batch_size=32, epochs=100, validation_split=0.2)\n",
    "\n",
    "model.summary()"
   ]
  },
  {
   "cell_type": "markdown",
   "metadata": {},
   "source": [
    "## Test"
   ]
  },
  {
   "cell_type": "code",
   "execution_count": 11,
   "metadata": {},
   "outputs": [
    {
     "name": "stdout",
     "output_type": "stream",
     "text": [
      "1/1 [==============================] - 0s 168ms/step\n",
      "1/1 [==============================] - 0s 11ms/step\n",
      "1/1 [==============================] - 0s 10ms/step\n",
      "1/1 [==============================] - 0s 11ms/step\n",
      "1/1 [==============================] - 0s 10ms/step\n",
      "1/1 [==============================] - 0s 16ms/step\n",
      "1/1 [==============================] - 0s 11ms/step\n",
      "1/1 [==============================] - 0s 10ms/step\n",
      "1/1 [==============================] - 0s 10ms/step\n",
      "1/1 [==============================] - 0s 9ms/step\n",
      "1/1 [==============================] - 0s 9ms/step\n",
      "1/1 [==============================] - 0s 9ms/step\n",
      "1/1 [==============================] - 0s 9ms/step\n",
      "1/1 [==============================] - 0s 9ms/step\n",
      "1/1 [==============================] - 0s 9ms/step\n",
      "1/1 [==============================] - 0s 10ms/step\n",
      "1/1 [==============================] - 0s 10ms/step\n",
      "1/1 [==============================] - 0s 10ms/step\n",
      "1/1 [==============================] - 0s 9ms/step\n",
      "1/1 [==============================] - 0s 9ms/step\n",
      "1/1 [==============================] - 0s 9ms/step\n",
      "1/1 [==============================] - 0s 9ms/step\n",
      "1/1 [==============================] - 0s 9ms/step\n",
      "1/1 [==============================] - 0s 9ms/step\n",
      "1/1 [==============================] - 0s 9ms/step\n",
      "1/1 [==============================] - 0s 9ms/step\n",
      "1/1 [==============================] - 0s 9ms/step\n",
      "1/1 [==============================] - 0s 9ms/step\n",
      "1/1 [==============================] - 0s 10ms/step\n",
      "1/1 [==============================] - 0s 9ms/step\n",
      "1/1 [==============================] - 0s 11ms/step\n",
      "1/1 [==============================] - 0s 9ms/step\n",
      "1/1 [==============================] - 0s 10ms/step\n",
      "1/1 [==============================] - 0s 9ms/step\n",
      "1/1 [==============================] - 0s 9ms/step\n",
      "1/1 [==============================] - 0s 9ms/step\n",
      "1/1 [==============================] - 0s 9ms/step\n",
      "1/1 [==============================] - 0s 9ms/step\n",
      "1/1 [==============================] - 0s 9ms/step\n",
      "1/1 [==============================] - 0s 9ms/step\n",
      "1/1 [==============================] - 0s 9ms/step\n",
      "1/1 [==============================] - 0s 9ms/step\n",
      "1/1 [==============================] - 0s 9ms/step\n",
      "1/1 [==============================] - 0s 9ms/step\n",
      "1/1 [==============================] - 0s 9ms/step\n",
      "1/1 [==============================] - 0s 9ms/step\n",
      "1/1 [==============================] - 0s 9ms/step\n",
      "1/1 [==============================] - 0s 10ms/step\n",
      "1/1 [==============================] - 0s 9ms/step\n",
      "1/1 [==============================] - 0s 10ms/step\n",
      "1/1 [==============================] - 0s 10ms/step\n",
      "1/1 [==============================] - 0s 10ms/step\n",
      "1/1 [==============================] - 0s 9ms/step\n",
      "1/1 [==============================] - 0s 9ms/step\n",
      "1/1 [==============================] - 0s 10ms/step\n",
      "1/1 [==============================] - 0s 10ms/step\n",
      "1/1 [==============================] - 0s 9ms/step\n",
      "1/1 [==============================] - 0s 9ms/step\n",
      "1/1 [==============================] - 0s 9ms/step\n",
      "1/1 [==============================] - 0s 9ms/step\n",
      "1/1 [==============================] - 0s 9ms/step\n",
      "1/1 [==============================] - 0s 9ms/step\n",
      "1/1 [==============================] - 0s 9ms/step\n",
      "1/1 [==============================] - 0s 9ms/step\n",
      "1/1 [==============================] - 0s 9ms/step\n",
      "1/1 [==============================] - 0s 9ms/step\n",
      "1/1 [==============================] - 0s 9ms/step\n",
      "1/1 [==============================] - 0s 9ms/step\n",
      "1/1 [==============================] - 0s 9ms/step\n",
      "1/1 [==============================] - 0s 9ms/step\n",
      "1/1 [==============================] - 0s 9ms/step\n",
      "1/1 [==============================] - 0s 9ms/step\n",
      "1/1 [==============================] - 0s 9ms/step\n",
      "1/1 [==============================] - 0s 9ms/step\n",
      "1/1 [==============================] - 0s 9ms/step\n",
      "1/1 [==============================] - 0s 9ms/step\n",
      "1/1 [==============================] - 0s 9ms/step\n",
      "1/1 [==============================] - 0s 10ms/step\n",
      "1/1 [==============================] - 0s 9ms/step\n",
      "1/1 [==============================] - 0s 9ms/step\n",
      "1/1 [==============================] - 0s 9ms/step\n",
      "1/1 [==============================] - 0s 9ms/step\n",
      "1/1 [==============================] - 0s 9ms/step\n",
      "1/1 [==============================] - 0s 9ms/step\n",
      "1/1 [==============================] - 0s 9ms/step\n",
      "1/1 [==============================] - 0s 9ms/step\n",
      "1/1 [==============================] - 0s 9ms/step\n",
      "1/1 [==============================] - 0s 9ms/step\n",
      "1/1 [==============================] - 0s 9ms/step\n",
      "1/1 [==============================] - 0s 10ms/step\n",
      "1/1 [==============================] - 0s 9ms/step\n",
      "1/1 [==============================] - 0s 9ms/step\n",
      "1/1 [==============================] - 0s 9ms/step\n",
      "1/1 [==============================] - 0s 9ms/step\n",
      "1/1 [==============================] - 0s 9ms/step\n",
      "1/1 [==============================] - 0s 9ms/step\n",
      "1/1 [==============================] - 0s 9ms/step\n",
      "1/1 [==============================] - 0s 9ms/step\n",
      "1/1 [==============================] - 0s 9ms/step\n",
      "1/1 [==============================] - 0s 9ms/step\n",
      "1/1 [==============================] - 0s 10ms/step\n",
      "1/1 [==============================] - 0s 9ms/step\n",
      "1/1 [==============================] - 0s 9ms/step\n",
      "1/1 [==============================] - 0s 9ms/step\n",
      "1/1 [==============================] - 0s 10ms/step\n",
      "1/1 [==============================] - 0s 9ms/step\n",
      "1/1 [==============================] - 0s 9ms/step\n",
      "1/1 [==============================] - 0s 9ms/step\n",
      "1/1 [==============================] - 0s 9ms/step\n",
      "1/1 [==============================] - 0s 9ms/step\n",
      "1/1 [==============================] - 0s 9ms/step\n",
      "1/1 [==============================] - 0s 9ms/step\n",
      "1/1 [==============================] - 0s 9ms/step\n",
      "1/1 [==============================] - 0s 9ms/step\n",
      "1/1 [==============================] - 0s 9ms/step\n",
      "1/1 [==============================] - 0s 9ms/step\n",
      "1/1 [==============================] - 0s 9ms/step\n",
      "1/1 [==============================] - 0s 9ms/step\n",
      "1/1 [==============================] - 0s 9ms/step\n",
      "1/1 [==============================] - 0s 10ms/step\n",
      "1/1 [==============================] - 0s 9ms/step\n",
      "1/1 [==============================] - 0s 10ms/step\n",
      "1/1 [==============================] - 0s 10ms/step\n",
      "1/1 [==============================] - 0s 9ms/step\n",
      "1/1 [==============================] - 0s 10ms/step\n",
      "1/1 [==============================] - 0s 9ms/step\n",
      "1/1 [==============================] - 0s 9ms/step\n",
      "1/1 [==============================] - 0s 9ms/step\n",
      "1/1 [==============================] - 0s 9ms/step\n",
      "1/1 [==============================] - 0s 10ms/step\n",
      "1/1 [==============================] - 0s 9ms/step\n",
      "1/1 [==============================] - 0s 9ms/step\n",
      "1/1 [==============================] - 0s 10ms/step\n",
      "1/1 [==============================] - 0s 9ms/step\n",
      "1/1 [==============================] - 0s 9ms/step\n",
      "1/1 [==============================] - 0s 10ms/step\n",
      "1/1 [==============================] - 0s 9ms/step\n",
      "1/1 [==============================] - 0s 9ms/step\n",
      "1/1 [==============================] - 0s 9ms/step\n",
      "1/1 [==============================] - 0s 9ms/step\n",
      "1/1 [==============================] - 0s 9ms/step\n",
      "1/1 [==============================] - 0s 10ms/step\n",
      "1/1 [==============================] - 0s 9ms/step\n",
      "1/1 [==============================] - 0s 10ms/step\n",
      "1/1 [==============================] - 0s 9ms/step\n",
      "1/1 [==============================] - 0s 10ms/step\n",
      "1/1 [==============================] - 0s 10ms/step\n",
      "1/1 [==============================] - 0s 9ms/step\n",
      "1/1 [==============================] - 0s 9ms/step\n",
      "1/1 [==============================] - 0s 9ms/step\n",
      "1/1 [==============================] - 0s 9ms/step\n",
      "1/1 [==============================] - 0s 10ms/step\n",
      "1/1 [==============================] - 0s 10ms/step\n",
      "1/1 [==============================] - 0s 9ms/step\n",
      "1/1 [==============================] - 0s 9ms/step\n",
      "1/1 [==============================] - 0s 10ms/step\n",
      "1/1 [==============================] - 0s 9ms/step\n",
      "1/1 [==============================] - 0s 10ms/step\n",
      "1/1 [==============================] - 0s 10ms/step\n",
      "1/1 [==============================] - 0s 10ms/step\n",
      "1/1 [==============================] - 0s 9ms/step\n",
      "1/1 [==============================] - 0s 10ms/step\n",
      "1/1 [==============================] - 0s 10ms/step\n",
      "1/1 [==============================] - 0s 9ms/step\n",
      "1/1 [==============================] - 0s 10ms/step\n",
      "1/1 [==============================] - 0s 10ms/step\n",
      "1/1 [==============================] - 0s 10ms/step\n",
      "1/1 [==============================] - 0s 10ms/step\n",
      "1/1 [==============================] - 0s 9ms/step\n",
      "1/1 [==============================] - 0s 10ms/step\n",
      "1/1 [==============================] - 0s 10ms/step\n",
      "1/1 [==============================] - 0s 9ms/step\n",
      "1/1 [==============================] - 0s 10ms/step\n",
      "1/1 [==============================] - 0s 9ms/step\n",
      "1/1 [==============================] - 0s 9ms/step\n",
      "1/1 [==============================] - 0s 10ms/step\n",
      "1/1 [==============================] - 0s 9ms/step\n",
      "1/1 [==============================] - 0s 9ms/step\n",
      "1/1 [==============================] - 0s 9ms/step\n",
      "1/1 [==============================] - 0s 9ms/step\n",
      "1/1 [==============================] - 0s 9ms/step\n",
      "1/1 [==============================] - 0s 9ms/step\n",
      "1/1 [==============================] - 0s 9ms/step\n",
      "1/1 [==============================] - 0s 9ms/step\n",
      "1/1 [==============================] - 0s 10ms/step\n",
      "1/1 [==============================] - 0s 10ms/step\n",
      "1/1 [==============================] - 0s 9ms/step\n",
      "1/1 [==============================] - 0s 9ms/step\n",
      "1/1 [==============================] - 0s 9ms/step\n",
      "1/1 [==============================] - 0s 10ms/step\n",
      "1/1 [==============================] - 0s 9ms/step\n",
      "1/1 [==============================] - 0s 9ms/step\n",
      "1/1 [==============================] - 0s 10ms/step\n",
      "1/1 [==============================] - 0s 9ms/step\n",
      "1/1 [==============================] - 0s 9ms/step\n",
      "1/1 [==============================] - 0s 10ms/step\n",
      "1/1 [==============================] - 0s 9ms/step\n",
      "1/1 [==============================] - 0s 10ms/step\n",
      "1/1 [==============================] - 0s 10ms/step\n",
      "1/1 [==============================] - 0s 9ms/step\n",
      "1/1 [==============================] - 0s 9ms/step\n",
      "1/1 [==============================] - 0s 10ms/step\n",
      "1/1 [==============================] - 0s 9ms/step\n",
      "1/1 [==============================] - 0s 9ms/step\n",
      "1/1 [==============================] - 0s 10ms/step\n",
      "1/1 [==============================] - 0s 9ms/step\n",
      "1/1 [==============================] - 0s 9ms/step\n",
      "1/1 [==============================] - 0s 9ms/step\n",
      "1/1 [==============================] - 0s 10ms/step\n",
      "1/1 [==============================] - 0s 10ms/step\n",
      "1/1 [==============================] - 0s 9ms/step\n",
      "1/1 [==============================] - 0s 10ms/step\n",
      "1/1 [==============================] - 0s 10ms/step\n",
      "1/1 [==============================] - 0s 10ms/step\n",
      "1/1 [==============================] - 0s 10ms/step\n",
      "1/1 [==============================] - 0s 10ms/step\n",
      "1/1 [==============================] - 0s 10ms/step\n",
      "1/1 [==============================] - 0s 10ms/step\n",
      "1/1 [==============================] - 0s 10ms/step\n",
      "1/1 [==============================] - 0s 10ms/step\n",
      "1/1 [==============================] - 0s 10ms/step\n",
      "1/1 [==============================] - 0s 10ms/step\n",
      "1/1 [==============================] - 0s 10ms/step\n",
      "1/1 [==============================] - 0s 9ms/step\n",
      "1/1 [==============================] - 0s 10ms/step\n",
      "1/1 [==============================] - 0s 10ms/step\n",
      "1/1 [==============================] - 0s 9ms/step\n",
      "1/1 [==============================] - 0s 9ms/step\n",
      "1/1 [==============================] - 0s 10ms/step\n",
      "1/1 [==============================] - 0s 10ms/step\n",
      "1/1 [==============================] - 0s 9ms/step\n",
      "1/1 [==============================] - 0s 10ms/step\n",
      "1/1 [==============================] - 0s 10ms/step\n",
      "1/1 [==============================] - 0s 10ms/step\n",
      "1/1 [==============================] - 0s 10ms/step\n",
      "1/1 [==============================] - 0s 10ms/step\n",
      "1/1 [==============================] - 0s 10ms/step\n",
      "1/1 [==============================] - 0s 10ms/step\n",
      "1/1 [==============================] - 0s 10ms/step\n",
      "1/1 [==============================] - 0s 10ms/step\n",
      "1/1 [==============================] - 0s 10ms/step\n",
      "1/1 [==============================] - 0s 10ms/step\n",
      "1/1 [==============================] - 0s 10ms/step\n",
      "1/1 [==============================] - 0s 9ms/step\n",
      "1/1 [==============================] - 0s 10ms/step\n",
      "1/1 [==============================] - 0s 10ms/step\n",
      "1/1 [==============================] - 0s 10ms/step\n",
      "1/1 [==============================] - 0s 9ms/step\n",
      "1/1 [==============================] - 0s 9ms/step\n",
      "1/1 [==============================] - 0s 10ms/step\n",
      "1/1 [==============================] - 0s 9ms/step\n",
      "1/1 [==============================] - 0s 9ms/step\n",
      "1/1 [==============================] - 0s 9ms/step\n",
      "1/1 [==============================] - 0s 9ms/step\n",
      "1/1 [==============================] - 0s 10ms/step\n",
      "1/1 [==============================] - 0s 9ms/step\n",
      "1/1 [==============================] - 0s 9ms/step\n",
      "1/1 [==============================] - 0s 9ms/step\n",
      "1/1 [==============================] - 0s 9ms/step\n",
      "1/1 [==============================] - 0s 10ms/step\n",
      "1/1 [==============================] - 0s 10ms/step\n",
      "1/1 [==============================] - 0s 10ms/step\n",
      "1/1 [==============================] - 0s 9ms/step\n",
      "1/1 [==============================] - 0s 9ms/step\n",
      "1/1 [==============================] - 0s 9ms/step\n",
      "1/1 [==============================] - 0s 9ms/step\n",
      "1/1 [==============================] - 0s 9ms/step\n",
      "1/1 [==============================] - 0s 10ms/step\n",
      "1/1 [==============================] - 0s 9ms/step\n",
      "1/1 [==============================] - 0s 9ms/step\n",
      "1/1 [==============================] - 0s 9ms/step\n",
      "1/1 [==============================] - 0s 9ms/step\n",
      "1/1 [==============================] - 0s 9ms/step\n",
      "1/1 [==============================] - 0s 9ms/step\n",
      "1/1 [==============================] - 0s 9ms/step\n",
      "1/1 [==============================] - 0s 9ms/step\n",
      "1/1 [==============================] - 0s 9ms/step\n",
      "1/1 [==============================] - 0s 9ms/step\n",
      "1/1 [==============================] - 0s 9ms/step\n",
      "1/1 [==============================] - 0s 9ms/step\n",
      "1/1 [==============================] - 0s 9ms/step\n",
      "1/1 [==============================] - 0s 9ms/step\n",
      "1/1 [==============================] - 0s 10ms/step\n",
      "1/1 [==============================] - 0s 9ms/step\n",
      "1/1 [==============================] - 0s 10ms/step\n",
      "1/1 [==============================] - 0s 10ms/step\n",
      "1/1 [==============================] - 0s 9ms/step\n",
      "1/1 [==============================] - 0s 10ms/step\n",
      "1/1 [==============================] - 0s 9ms/step\n",
      "1/1 [==============================] - 0s 9ms/step\n",
      "1/1 [==============================] - 0s 9ms/step\n",
      "1/1 [==============================] - 0s 10ms/step\n",
      "1/1 [==============================] - 0s 9ms/step\n",
      "1/1 [==============================] - 0s 10ms/step\n",
      "1/1 [==============================] - 0s 9ms/step\n",
      "1/1 [==============================] - 0s 9ms/step\n",
      "1/1 [==============================] - 0s 9ms/step\n",
      "1/1 [==============================] - 0s 9ms/step\n",
      "1/1 [==============================] - 0s 9ms/step\n",
      "1/1 [==============================] - 0s 9ms/step\n",
      "1/1 [==============================] - 0s 9ms/step\n",
      "1/1 [==============================] - 0s 10ms/step\n",
      "1/1 [==============================] - 0s 9ms/step\n",
      "1/1 [==============================] - 0s 9ms/step\n",
      "1/1 [==============================] - 0s 9ms/step\n",
      "1/1 [==============================] - 0s 9ms/step\n",
      "1/1 [==============================] - 0s 10ms/step\n",
      "1/1 [==============================] - 0s 9ms/step\n",
      "1/1 [==============================] - 0s 9ms/step\n",
      "1/1 [==============================] - 0s 10ms/step\n",
      "1/1 [==============================] - 0s 10ms/step\n",
      "1/1 [==============================] - 0s 9ms/step\n",
      "1/1 [==============================] - 0s 9ms/step\n",
      "1/1 [==============================] - 0s 10ms/step\n",
      "1/1 [==============================] - 0s 9ms/step\n",
      "1/1 [==============================] - 0s 9ms/step\n",
      "1/1 [==============================] - 0s 9ms/step\n",
      "1/1 [==============================] - 0s 10ms/step\n",
      "1/1 [==============================] - 0s 9ms/step\n",
      "1/1 [==============================] - 0s 9ms/step\n",
      "1/1 [==============================] - 0s 10ms/step\n",
      "1/1 [==============================] - 0s 10ms/step\n",
      "1/1 [==============================] - 0s 10ms/step\n",
      "1/1 [==============================] - 0s 9ms/step\n",
      "1/1 [==============================] - 0s 9ms/step\n",
      "1/1 [==============================] - 0s 9ms/step\n",
      "1/1 [==============================] - 0s 9ms/step\n",
      "1/1 [==============================] - 0s 10ms/step\n",
      "1/1 [==============================] - 0s 9ms/step\n",
      "1/1 [==============================] - 0s 9ms/step\n",
      "1/1 [==============================] - 0s 9ms/step\n",
      "1/1 [==============================] - 0s 9ms/step\n",
      "1/1 [==============================] - 0s 9ms/step\n",
      "1/1 [==============================] - 0s 9ms/step\n",
      "1/1 [==============================] - 0s 9ms/step\n",
      "1/1 [==============================] - 0s 9ms/step\n",
      "1/1 [==============================] - 0s 9ms/step\n",
      "1/1 [==============================] - 0s 9ms/step\n",
      "1/1 [==============================] - 0s 9ms/step\n",
      "1/1 [==============================] - 0s 9ms/step\n",
      "1/1 [==============================] - 0s 9ms/step\n",
      "1/1 [==============================] - 0s 9ms/step\n",
      "1/1 [==============================] - 0s 9ms/step\n",
      "1/1 [==============================] - 0s 9ms/step\n",
      "1/1 [==============================] - 0s 9ms/step\n",
      "1/1 [==============================] - 0s 9ms/step\n",
      "1/1 [==============================] - 0s 9ms/step\n",
      "1/1 [==============================] - 0s 10ms/step\n",
      "1/1 [==============================] - 0s 9ms/step\n",
      "1/1 [==============================] - 0s 9ms/step\n",
      "1/1 [==============================] - 0s 9ms/step\n",
      "1/1 [==============================] - 0s 9ms/step\n",
      "1/1 [==============================] - 0s 9ms/step\n",
      "1/1 [==============================] - 0s 9ms/step\n",
      "1/1 [==============================] - 0s 9ms/step\n",
      "1/1 [==============================] - 0s 9ms/step\n",
      "1/1 [==============================] - 0s 9ms/step\n",
      "1/1 [==============================] - 0s 9ms/step\n",
      "1/1 [==============================] - 0s 9ms/step\n",
      "1/1 [==============================] - 0s 9ms/step\n",
      "1/1 [==============================] - 0s 9ms/step\n",
      "1/1 [==============================] - 0s 9ms/step\n",
      "1/1 [==============================] - 0s 9ms/step\n",
      "1/1 [==============================] - 0s 9ms/step\n",
      "1/1 [==============================] - 0s 9ms/step\n",
      "1/1 [==============================] - 0s 9ms/step\n",
      "1/1 [==============================] - 0s 9ms/step\n",
      "1/1 [==============================] - 0s 9ms/step\n",
      "1/1 [==============================] - 0s 9ms/step\n",
      "1/1 [==============================] - 0s 9ms/step\n",
      "1/1 [==============================] - 0s 9ms/step\n",
      "1/1 [==============================] - 0s 9ms/step\n",
      "1/1 [==============================] - 0s 9ms/step\n",
      "1/1 [==============================] - 0s 9ms/step\n",
      "1/1 [==============================] - 0s 9ms/step\n",
      "1/1 [==============================] - 0s 9ms/step\n",
      "1/1 [==============================] - 0s 9ms/step\n",
      "1/1 [==============================] - 0s 9ms/step\n",
      "1/1 [==============================] - 0s 9ms/step\n",
      "1/1 [==============================] - 0s 9ms/step\n",
      "1/1 [==============================] - 0s 9ms/step\n",
      "1/1 [==============================] - 0s 9ms/step\n",
      "1/1 [==============================] - 0s 10ms/step\n",
      "1/1 [==============================] - 0s 9ms/step\n",
      "1/1 [==============================] - 0s 9ms/step\n",
      "1/1 [==============================] - 0s 12ms/step\n",
      "1/1 [==============================] - 0s 9ms/step\n",
      "1/1 [==============================] - 0s 9ms/step\n",
      "1/1 [==============================] - 0s 9ms/step\n",
      "1/1 [==============================] - 0s 11ms/step\n",
      "1/1 [==============================] - 0s 9ms/step\n",
      "1/1 [==============================] - 0s 9ms/step\n",
      "1/1 [==============================] - 0s 9ms/step\n",
      "1/1 [==============================] - 0s 9ms/step\n",
      "1/1 [==============================] - 0s 9ms/step\n",
      "1/1 [==============================] - 0s 9ms/step\n",
      "1/1 [==============================] - 0s 9ms/step\n",
      "1/1 [==============================] - 0s 9ms/step\n",
      "1/1 [==============================] - 0s 9ms/step\n",
      "1/1 [==============================] - 0s 10ms/step\n",
      "1/1 [==============================] - 0s 9ms/step\n",
      "1/1 [==============================] - 0s 9ms/step\n",
      "1/1 [==============================] - 0s 9ms/step\n",
      "1/1 [==============================] - 0s 9ms/step\n",
      "1/1 [==============================] - 0s 9ms/step\n",
      "1/1 [==============================] - 0s 9ms/step\n",
      "1/1 [==============================] - 0s 9ms/step\n",
      "1/1 [==============================] - 0s 9ms/step\n",
      "1/1 [==============================] - 0s 9ms/step\n",
      "1/1 [==============================] - 0s 9ms/step\n",
      "1/1 [==============================] - 0s 9ms/step\n",
      "1/1 [==============================] - 0s 9ms/step\n",
      "1/1 [==============================] - 0s 9ms/step\n",
      "1/1 [==============================] - 0s 9ms/step\n",
      "1/1 [==============================] - 0s 9ms/step\n",
      "1/1 [==============================] - 0s 9ms/step\n",
      "1/1 [==============================] - 0s 9ms/step\n",
      "1/1 [==============================] - 0s 9ms/step\n",
      "1/1 [==============================] - 0s 9ms/step\n",
      "1/1 [==============================] - 0s 9ms/step\n",
      "1/1 [==============================] - 0s 9ms/step\n",
      "1/1 [==============================] - 0s 9ms/step\n",
      "1/1 [==============================] - 0s 10ms/step\n",
      "1/1 [==============================] - 0s 9ms/step\n",
      "1/1 [==============================] - 0s 9ms/step\n",
      "1/1 [==============================] - 0s 9ms/step\n",
      "1/1 [==============================] - 0s 9ms/step\n",
      "1/1 [==============================] - 0s 9ms/step\n",
      "1/1 [==============================] - 0s 9ms/step\n",
      "1/1 [==============================] - 0s 9ms/step\n",
      "1/1 [==============================] - 0s 9ms/step\n",
      "1/1 [==============================] - 0s 9ms/step\n",
      "1/1 [==============================] - 0s 9ms/step\n",
      "1/1 [==============================] - 0s 9ms/step\n",
      "1/1 [==============================] - 0s 9ms/step\n",
      "1/1 [==============================] - 0s 9ms/step\n",
      "1/1 [==============================] - 0s 9ms/step\n",
      "1/1 [==============================] - 0s 9ms/step\n",
      "1/1 [==============================] - 0s 9ms/step\n",
      "1/1 [==============================] - 0s 9ms/step\n",
      "1/1 [==============================] - 0s 9ms/step\n",
      "1/1 [==============================] - 0s 9ms/step\n",
      "1/1 [==============================] - 0s 9ms/step\n",
      "1/1 [==============================] - 0s 9ms/step\n",
      "1/1 [==============================] - 0s 9ms/step\n",
      "1/1 [==============================] - 0s 9ms/step\n",
      "1/1 [==============================] - 0s 9ms/step\n",
      "1/1 [==============================] - 0s 9ms/step\n",
      "1/1 [==============================] - 0s 10ms/step\n",
      "1/1 [==============================] - 0s 9ms/step\n",
      "1/1 [==============================] - 0s 9ms/step\n",
      "1/1 [==============================] - 0s 10ms/step\n",
      "1/1 [==============================] - 0s 9ms/step\n",
      "1/1 [==============================] - 0s 10ms/step\n",
      "1/1 [==============================] - 0s 10ms/step\n",
      "1/1 [==============================] - 0s 9ms/step\n",
      "1/1 [==============================] - 0s 9ms/step\n",
      "1/1 [==============================] - 0s 9ms/step\n",
      "1/1 [==============================] - 0s 9ms/step\n",
      "1/1 [==============================] - 0s 9ms/step\n",
      "1/1 [==============================] - 0s 9ms/step\n",
      "1/1 [==============================] - 0s 9ms/step\n",
      "1/1 [==============================] - 0s 9ms/step\n",
      "1/1 [==============================] - 0s 9ms/step\n",
      "1/1 [==============================] - 0s 9ms/step\n",
      "1/1 [==============================] - 0s 9ms/step\n",
      "1/1 [==============================] - 0s 9ms/step\n",
      "1/1 [==============================] - 0s 9ms/step\n",
      "1/1 [==============================] - 0s 9ms/step\n",
      "1/1 [==============================] - 0s 9ms/step\n",
      "1/1 [==============================] - 0s 9ms/step\n",
      "1/1 [==============================] - 0s 9ms/step\n",
      "1/1 [==============================] - 0s 9ms/step\n",
      "1/1 [==============================] - 0s 9ms/step\n",
      "1/1 [==============================] - 0s 11ms/step\n",
      "1/1 [==============================] - 0s 9ms/step\n",
      "1/1 [==============================] - 0s 10ms/step\n"
     ]
    }
   ],
   "source": [
    "cap = cv2.VideoCapture(feedforward.CAMERA_INDEX)\n",
    "holistic = mp.solutions.holistic.Holistic()\n",
    "frame_buffer = []\n",
    "\n",
    "while cap.isOpened():\n",
    "    ret, frame = cap.read()\n",
    "    if not ret:\n",
    "        break\n",
    "\n",
    "    frame_rgb = cv2.cvtColor(frame, cv2.COLOR_BGR2RGB)\n",
    "\n",
    "    results = holistic.process(frame_rgb)\n",
    "\n",
    "    if results.pose_landmarks:\n",
    "        right_wrist = results.pose_landmarks.landmark[mp.solutions.holistic.PoseLandmark.RIGHT_WRIST]\n",
    "\n",
    "        height, width, _ = frame.shape\n",
    "\n",
    "        wrist_x, wrist_y = int(right_wrist.x * width), int(right_wrist.y * height)\n",
    "\n",
    "        cv2.circle(frame, (wrist_x, wrist_y), 5, (255, 0, 0), -1)\n",
    "\n",
    "        wrist_coords = [\n",
    "            right_wrist.x,\n",
    "            right_wrist.y,\n",
    "            # right_wrist.z\n",
    "        ]\n",
    "\n",
    "        frame_buffer.append(wrist_coords)\n",
    "\n",
    "        if len(frame_buffer) >= window_len/2:\n",
    "            prediction_input = np.array(frame_buffer)[np.newaxis, :, :]\n",
    "            prediction = model.predict(prediction_input)\n",
    "\n",
    "            prediction_x = int(prediction[0][0] * width)\n",
    "            prediction_y = int(prediction[0][1] * height)\n",
    "\n",
    "            cv2.circle(frame, (prediction_x, prediction_y), 5, (255, 0, 255), -1)\n",
    "            \n",
    "            cv2.arrowedLine(frame, (wrist_x, wrist_y), (prediction_x, prediction_y), (255, 0, 255), 2)\n",
    "\n",
    "            frame_buffer = frame_buffer[1:]\n",
    "\n",
    "    cv2.imshow('Video', frame)\n",
    "\n",
    "    if cv2.waitKey(1) & 0xFF == ord('q'):\n",
    "        break\n",
    "\n",
    "cap.release()\n",
    "cv2.destroyAllWindows()"
   ]
  }
 ],
 "metadata": {
  "kernelspec": {
   "display_name": "uit-proj",
   "language": "python",
   "name": "python3"
  },
  "language_info": {
   "codemirror_mode": {
    "name": "ipython",
    "version": 3
   },
   "file_extension": ".py",
   "mimetype": "text/x-python",
   "name": "python",
   "nbconvert_exporter": "python",
   "pygments_lexer": "ipython3",
   "version": "3.9.18"
  }
 },
 "nbformat": 4,
 "nbformat_minor": 2
}
