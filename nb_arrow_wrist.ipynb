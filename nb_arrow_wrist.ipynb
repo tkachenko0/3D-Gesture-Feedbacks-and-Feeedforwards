{
 "cells": [
  {
   "cell_type": "code",
   "execution_count": 1,
   "metadata": {},
   "outputs": [],
   "source": [
    "import os\n",
    "import cv2\n",
    "import mediapipe as mp\n",
    "import numpy as np\n",
    "import mediapipe as mp\n",
    "\n",
    "from tensorflow.keras.models import Sequential\n",
    "from tensorflow.keras.layers import LSTM, Dense\n",
    "\n",
    "import feedforward"
   ]
  },
  {
   "cell_type": "markdown",
   "metadata": {},
   "source": [
    "## Setup folder and register the training data"
   ]
  },
  {
   "cell_type": "code",
   "execution_count": 2,
   "metadata": {},
   "outputs": [],
   "source": [
    "DATA_PATH = os.path.join('dist') "
   ]
  },
  {
   "cell_type": "code",
   "execution_count": null,
   "metadata": {},
   "outputs": [],
   "source": [
    "feedforward.create_folder_if_not_exists(DATA_PATH)"
   ]
  },
  {
   "cell_type": "code",
   "execution_count": null,
   "metadata": {},
   "outputs": [],
   "source": [
    "feedforward.clear_folder(DATA_PATH)"
   ]
  },
  {
   "cell_type": "code",
   "execution_count": null,
   "metadata": {},
   "outputs": [],
   "source": [
    "num_videos = 20\n",
    "num_frames_per_video = 100\n",
    "prefix = 'arrow_wrist'"
   ]
  },
  {
   "cell_type": "code",
   "execution_count": null,
   "metadata": {},
   "outputs": [],
   "source": [
    "feedforward.register_videos(DATA_PATH, prefix, num_videos, num_frames_per_video)"
   ]
  },
  {
   "cell_type": "markdown",
   "metadata": {},
   "source": [
    "## Build Model"
   ]
  },
  {
   "cell_type": "code",
   "execution_count": null,
   "metadata": {},
   "outputs": [],
   "source": [
    "prefix_for_augmented = \"augmented_\"\n",
    "feedforward.augment_dataset(DATA_PATH, prefix_for_augmented)"
   ]
  },
  {
   "cell_type": "code",
   "execution_count": null,
   "metadata": {},
   "outputs": [],
   "source": [
    "feedforward.delete_files_with_prefix(DATA_PATH, prefix_for_augmented)"
   ]
  },
  {
   "cell_type": "code",
   "execution_count": null,
   "metadata": {},
   "outputs": [],
   "source": [
    "for target_idx, target in enumerate(mp.solutions.holistic.PoseLandmark): \n",
    "    print(target_idx, '=>' , target)"
   ]
  },
  {
   "cell_type": "code",
   "execution_count": 3,
   "metadata": {},
   "outputs": [
    {
     "ename": "NameError",
     "evalue": "name 'mp' is not defined",
     "output_type": "error",
     "traceback": [
      "\u001b[0;31m---------------------------------------------------------------------------\u001b[0m",
      "\u001b[0;31mNameError\u001b[0m                                 Traceback (most recent call last)",
      "\u001b[1;32m/Users/vtkachenko/Documents/projects/3d-Gesture-Feedbacks-and-Feeedforwards/nb_arrow_wrist.ipynb Cell 12\u001b[0m line \u001b[0;36m3\n\u001b[1;32m      <a href='vscode-notebook-cell:/Users/vtkachenko/Documents/projects/3d-Gesture-Feedbacks-and-Feeedforwards/nb_arrow_wrist.ipynb#X13sZmlsZQ%3D%3D?line=0'>1</a>\u001b[0m window_len \u001b[39m=\u001b[39m \u001b[39m20\u001b[39m\n\u001b[1;32m      <a href='vscode-notebook-cell:/Users/vtkachenko/Documents/projects/3d-Gesture-Feedbacks-and-Feeedforwards/nb_arrow_wrist.ipynb#X13sZmlsZQ%3D%3D?line=1'>2</a>\u001b[0m target_joint \u001b[39m=\u001b[39m mp\u001b[39m.\u001b[39msolutions\u001b[39m.\u001b[39mholistic\u001b[39m.\u001b[39mPoseLandmark\u001b[39m.\u001b[39mLEFT_WRIST\n\u001b[0;32m----> <a href='vscode-notebook-cell:/Users/vtkachenko/Documents/projects/3d-Gesture-Feedbacks-and-Feeedforwards/nb_arrow_wrist.ipynb#X13sZmlsZQ%3D%3D?line=2'>3</a>\u001b[0m X_training, y_training \u001b[39m=\u001b[39m feedforward\u001b[39m.\u001b[39;49mbuild_training_data(DATA_PATH, window_len, target_joint)\n\u001b[1;32m      <a href='vscode-notebook-cell:/Users/vtkachenko/Documents/projects/3d-Gesture-Feedbacks-and-Feeedforwards/nb_arrow_wrist.ipynb#X13sZmlsZQ%3D%3D?line=3'>4</a>\u001b[0m X_training\u001b[39m.\u001b[39mshape, y_training\u001b[39m.\u001b[39mshape\n",
      "File \u001b[0;32m~/Documents/projects/3d-Gesture-Feedbacks-and-Feeedforwards/feedforward/classification.py:9\u001b[0m, in \u001b[0;36mbuild_training_data\u001b[0;34m(video_dir, window_len, target_joint)\u001b[0m\n\u001b[1;32m      7\u001b[0m \u001b[39mdef\u001b[39;00m \u001b[39mbuild_training_data\u001b[39m(video_dir: \u001b[39mstr\u001b[39m, window_len: \u001b[39mint\u001b[39m, target_joint: mediapipe\u001b[39m.\u001b[39msolutions\u001b[39m.\u001b[39mholistic\u001b[39m.\u001b[39mPoseLandmark) \u001b[39m-\u001b[39m\u001b[39m>\u001b[39m \u001b[39mNone\u001b[39;00m:\n\u001b[0;32m----> 9\u001b[0m     holistic \u001b[39m=\u001b[39m mp\u001b[39m.\u001b[39msolutions\u001b[39m.\u001b[39mholistic\u001b[39m.\u001b[39mHolistic()\n\u001b[1;32m     11\u001b[0m     X_training \u001b[39m=\u001b[39m []\n\u001b[1;32m     12\u001b[0m     y_training \u001b[39m=\u001b[39m []\n",
      "\u001b[0;31mNameError\u001b[0m: name 'mp' is not defined"
     ]
    }
   ],
   "source": [
    "window_len = 20\n",
    "target_joint = mp.solutions.holistic.PoseLandmark.LEFT_WRIST\n",
    "X_training, y_training = feedforward.build_training_data(DATA_PATH, window_len, target_joint)\n",
    "X_training.shape, y_training.shape"
   ]
  },
  {
   "cell_type": "code",
   "execution_count": null,
   "metadata": {},
   "outputs": [],
   "source": [
    "model = Sequential()\n",
    "\n",
    "model.add(LSTM(64, input_shape=(X_training.shape[1], X_training.shape[2]), activation='relu', return_sequences=True)) # LSTM layer with input shape (X_training.shape[1], X_training.shape[2]))\n",
    "model.add(LSTM(64, activation='relu', return_sequences=False)) # LSTM layer with return_sequences=False for the final prediction# LSTM layer with return_sequences=False for the final prediction\n",
    "model.add(Dense(2))# Dense output layer with 2 units\n",
    "\n",
    "model.compile(optimizer='adam', loss='mean_squared_error', metrics=['accuracy'])\n",
    "\n",
    "history = model.fit(X_training, y_training, batch_size=32, epochs=100, validation_split=0.2)\n",
    "\n",
    "model.summary()"
   ]
  },
  {
   "cell_type": "markdown",
   "metadata": {},
   "source": [
    "## Test"
   ]
  },
  {
   "cell_type": "code",
   "execution_count": null,
   "metadata": {},
   "outputs": [],
   "source": [
    "cap = cv2.VideoCapture(feedforward.CAMERA_INDEX)\n",
    "holistic = mp.solutions.holistic.Holistic()\n",
    "frame_buffer = []\n",
    "\n",
    "while cap.isOpened():\n",
    "    ret, frame = cap.read()\n",
    "    if not ret:\n",
    "        break\n",
    "\n",
    "    frame_rgb = cv2.cvtColor(frame, cv2.COLOR_BGR2RGB)\n",
    "\n",
    "    results = holistic.process(frame_rgb)\n",
    "\n",
    "    if results.pose_landmarks:\n",
    "        right_wrist = results.pose_landmarks.landmark[mp.solutions.holistic.PoseLandmark.RIGHT_WRIST]\n",
    "\n",
    "        height, width, _ = frame.shape\n",
    "\n",
    "        wrist_x, wrist_y = int(right_wrist.x * width), int(right_wrist.y * height)\n",
    "\n",
    "        cv2.circle(frame, (wrist_x, wrist_y), 5, (255, 0, 0), -1)\n",
    "\n",
    "        wrist_coords = [\n",
    "            right_wrist.x,\n",
    "            right_wrist.y,\n",
    "            # right_wrist.z\n",
    "        ]\n",
    "\n",
    "        frame_buffer.append(wrist_coords)\n",
    "\n",
    "        if len(frame_buffer) >= window_len/2:\n",
    "            prediction_input = np.array(frame_buffer)[np.newaxis, :, :]\n",
    "            prediction = model.predict(prediction_input)\n",
    "\n",
    "            prediction_x = int(prediction[0][0] * width)\n",
    "            prediction_y = int(prediction[0][1] * height)\n",
    "\n",
    "            cv2.circle(frame, (prediction_x, prediction_y), 5, (255, 0, 255), -1)\n",
    "            \n",
    "            cv2.arrowedLine(frame, (wrist_x, wrist_y), (prediction_x, prediction_y), (255, 0, 255), 2)\n",
    "\n",
    "            frame_buffer = frame_buffer[1:]\n",
    "\n",
    "    cv2.imshow('Video', frame)\n",
    "\n",
    "    if cv2.waitKey(1) & 0xFF == ord('q'):\n",
    "        break\n",
    "\n",
    "cap.release()\n",
    "cv2.destroyAllWindows()"
   ]
  }
 ],
 "metadata": {
  "kernelspec": {
   "display_name": "uit-proj",
   "language": "python",
   "name": "python3"
  },
  "language_info": {
   "codemirror_mode": {
    "name": "ipython",
    "version": 3
   },
   "file_extension": ".py",
   "mimetype": "text/x-python",
   "name": "python",
   "nbconvert_exporter": "python",
   "pygments_lexer": "ipython3",
   "version": "3.9.18"
  }
 },
 "nbformat": 4,
 "nbformat_minor": 2
}
